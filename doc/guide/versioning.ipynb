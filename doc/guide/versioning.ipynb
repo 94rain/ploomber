{
 "cells": [
  {
   "cell_type": "markdown",
   "metadata": {},
   "source": [
    "# Advanced: Versioning DAGs [WIP]\n",
    "\n",
    "This tutorial assumes you package your pipeline.\n",
    "\n",
    "## Setting up `__version___`\n",
    "\n",
    "Manual approach\n",
    "\n",
    "## Automatic versioning\n",
    "\n",
    "How to use versioneer.py\n",
    "\n",
    "\n",
    "## Version-aware DAG artifacts using `__version__`\n",
    "\n",
    "* If using the git dag (you have to force the dirty tag)\n",
    "* If using versioneer.py (happens automatically)\n"
   ]
  }
 ],
 "metadata": {
  "kernelspec": {
   "display_name": "Python 3",
   "language": "python",
   "name": "python3"
  },
  "language_info": {
   "codemirror_mode": {
    "name": "ipython",
    "version": 3
   },
   "file_extension": ".py",
   "mimetype": "text/x-python",
   "name": "python",
   "nbconvert_exporter": "python",
   "pygments_lexer": "ipython3",
   "version": "3.6.10"
  }
 },
 "nbformat": 4,
 "nbformat_minor": 4
}
