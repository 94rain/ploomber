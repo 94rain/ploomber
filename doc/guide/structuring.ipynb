{
 "cells": [
  {
   "cell_type": "markdown",
   "metadata": {},
   "source": [
    "# Structuring large projects\n",
    "\n",
    "## The factory pattern, revisited\n",
    "\n",
    "* Introduce @load_env decorator\n",
    "* Why only one env at the same time is allowed\n",
    "\n",
    "## Packaging your DAG\n",
    "\n",
    "split in several files for better organization, import in a factory function\n",
    "\n",
    "\n",
    "## Entry points\n",
    "\n",
    "* experimental feature\n",
    "\n"
   ]
  }
 ],
 "metadata": {
  "kernelspec": {
   "display_name": "Python 3",
   "language": "python",
   "name": "python3"
  },
  "language_info": {
   "codemirror_mode": {
    "name": "ipython",
    "version": 3
   },
   "file_extension": ".py",
   "mimetype": "text/x-python",
   "name": "python",
   "nbconvert_exporter": "python",
   "pygments_lexer": "ipython3",
   "version": "3.6.10"
  }
 },
 "nbformat": 4,
 "nbformat_minor": 4
}
