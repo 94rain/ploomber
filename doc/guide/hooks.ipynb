{
 "cells": [
  {
   "cell_type": "markdown",
   "metadata": {},
   "source": [
    "# Intermediate: Hooks [WIP]\n",
    "\n",
    "* Mention that hooks are executed in the main process (if executor creates subprocesss)\n",
    "\n",
    "## `on_render`\n",
    "\n",
    "Exceptions raised here will prevent execution\n",
    "\n",
    "\n",
    "## `on_render` user case: static analysis\n",
    "\n",
    "## `on_finish`\n",
    "\n",
    "## `on_finish` user case: stating data assumptions\n",
    "\n",
    "Exceptions raised here prevent metadata from saving\n",
    "\n",
    "## `on_failure`\n",
    "\n",
    "Exceptions here are silenced and shown as warnings\n",
    "\n",
    "## `on_failure` user case: notifications"
   ]
  }
 ],
 "metadata": {
  "kernelspec": {
   "display_name": "Python 3",
   "language": "python",
   "name": "python3"
  },
  "language_info": {
   "codemirror_mode": {
    "name": "ipython",
    "version": 3
   },
   "file_extension": ".py",
   "mimetype": "text/x-python",
   "name": "python",
   "nbconvert_exporter": "python",
   "pygments_lexer": "ipython3",
   "version": "3.6.10"
  }
 },
 "nbformat": 4,
 "nbformat_minor": 4
}
