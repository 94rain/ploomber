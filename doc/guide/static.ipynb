{
 "cells": [
  {
   "cell_type": "markdown",
   "metadata": {},
   "source": [
    "# Essential: Static file management with SourceLoader\n",
    "\n",
    "Data pipelines usually interact with external systems such as SQL databases. Using relative paths to find such files is error-prone as the path to the file depends on the file loading it, on the other hand, absolute paths are to restrictive, the path will only work in your current environment but will break others. Combining `Env` with `SourceLoader` provides a clean approach for managing static files."
   ]
  },
  {
   "cell_type": "code",
   "execution_count": 14,
   "metadata": {},
   "outputs": [],
   "source": [
    "from pathlib import Path\n",
    "import tempfile\n",
    "import shutil\n",
    "import os\n",
    "\n",
    "import pandas as pd\n",
    "from sklearn import datasets\n",
    "from IPython.display import display, Markdown\n",
    "\n",
    "from ploomber import DAG, SourceLoader, with_env\n",
    "from ploomber.tasks import PythonCallable, NotebookRunner, SQLUpload, SQLScript\n",
    "from ploomber.products import File, SQLiteRelation\n",
    "from ploomber.clients import SQLAlchemyClient"
   ]
  },
  {
   "cell_type": "code",
   "execution_count": 16,
   "metadata": {},
   "outputs": [],
   "source": [
    "# initialize a temporary directory\n",
    "tmp_dir = Path(tempfile.mkdtemp())\n",
    "tmp_dir_static = tmp_dir / 'static'\n",
    "tmp_dir_static.mkdir()\n",
    "os.chdir(str(tmp_dir))"
   ]
  },
  {
   "cell_type": "code",
   "execution_count": 22,
   "metadata": {
    "nbsphinx": "hidden"
   },
   "outputs": [],
   "source": [
    "report_py = \"\"\"\n",
    "# static/report.py\n",
    "\n",
    "# +\n",
    "# This file is in jupytext light format\n",
    "import seaborn as sns\n",
    "import pandas as pd\n",
    "# -\n",
    "\n",
    "# + tags=['parameters']\n",
    "# papermill will add the parameters below this cell\n",
    "upstream = None\n",
    "product = None\n",
    "# -\n",
    "\n",
    "# +\n",
    "path = upstream['raw']\n",
    "df = pd.read_parquet(path)\n",
    "# -\n",
    "\n",
    "# ## AGE distribution\n",
    "\n",
    "# +\n",
    "_ = sns.distplot(df.AGE)\n",
    "# -\n",
    "\n",
    "# ## Price distribution\n",
    "\n",
    "# +\n",
    "_ = sns.distplot(df.price)\n",
    "# -\n",
    "\"\"\"\n",
    "\n",
    "clean_table_sql = \"\"\"\n",
    "-- static/clean_table.sql\n",
    "\n",
    "DROP TABLE IF EXISTS {{product}};\n",
    "\n",
    "CREATE TABLE {{product}}\n",
    "AS SELECT * FROM {{upstream[\"raw_table\"]}}\n",
    "WHERE AGE < 100\n",
    "\"\"\"\n",
    "\n",
    "env_yaml = \"\"\"\n",
    "_module: '{{here}}'\n",
    "\n",
    "path:\n",
    "    data: '{{here}}/data/'\n",
    "    static: '{{here}}/static/'\n",
    "\"\"\"\n",
    "\n",
    "(tmp_dir_static / 'report.py').write_text(report_py)\n",
    "(tmp_dir_static / 'clean_table.sql').write_text(clean_table_sql)\n",
    "(tmp_dir / 'env.yaml').write_text(env_yaml)\n",
    "\n",
    "def display_file(file, syntax):\n",
    "    s = \"\"\"\n",
    "```{}\n",
    "{}\n",
    "```\n",
    "\"\"\".format(syntax, file)\n",
    "    return display(Markdown(s))"
   ]
  },
  {
   "cell_type": "markdown",
   "metadata": {},
   "source": [
    "Our working environment has an `env.yaml` file with a `static/` folder holding a SQL and a Python script."
   ]
  },
  {
   "cell_type": "code",
   "execution_count": 20,
   "metadata": {},
   "outputs": [
    {
     "name": "stdout",
     "output_type": "stream",
     "text": [
      "\u001b[01;34m/var/folders/3h/_lvh_w_x5g30rrjzb_xnn2j80000gq/T/tmpwoaxfkcc\u001b[00m\r\n",
      "├── env.yaml\r\n",
      "└── \u001b[01;34mstatic\u001b[00m\r\n",
      "    ├── clean_table.sql\r\n",
      "    └── report.py\r\n",
      "\r\n",
      "1 directory, 3 files\r\n"
     ]
    }
   ],
   "source": [
    "! tree $tmp_dir"
   ]
  },
  {
   "cell_type": "markdown",
   "metadata": {},
   "source": [
    "### Content of `env.yaml`"
   ]
  },
  {
   "cell_type": "code",
   "execution_count": 7,
   "metadata": {},
   "outputs": [
    {
     "data": {
      "text/markdown": [
       "\n",
       "```yaml\n",
       "\n",
       "_module: {{here}}\n",
       "\n",
       "path:\n",
       "    static: {{here}}/static/\n",
       "\n",
       "```\n"
      ],
      "text/plain": [
       "<IPython.core.display.Markdown object>"
      ]
     },
     "metadata": {},
     "output_type": "display_data"
    }
   ],
   "source": [
    "display_file(env_yaml, 'yaml')"
   ]
  },
  {
   "cell_type": "markdown",
   "metadata": {},
   "source": [
    "### Content of `static/report.py`"
   ]
  },
  {
   "cell_type": "code",
   "execution_count": 8,
   "metadata": {},
   "outputs": [
    {
     "data": {
      "text/markdown": [
       "\n",
       "```python\n",
       "\n",
       "# static/report.py\n",
       "\n",
       "# +\n",
       "# This file is in jupytext light format\n",
       "import seaborn as sns\n",
       "import pandas as pd\n",
       "# -\n",
       "\n",
       "# + tags=['parameters']\n",
       "# papermill will add the parameters below this cell\n",
       "upstream = None\n",
       "product = None\n",
       "# -\n",
       "\n",
       "# +\n",
       "path = upstream['raw']\n",
       "df = pd.read_parquet(path)\n",
       "# -\n",
       "\n",
       "# ## AGE distribution\n",
       "\n",
       "# +\n",
       "_ = sns.distplot(df.AGE)\n",
       "# -\n",
       "\n",
       "# ## Price distribution\n",
       "\n",
       "# +\n",
       "_ = sns.distplot(df.price)\n",
       "# -\n",
       "\n",
       "```\n"
      ],
      "text/plain": [
       "<IPython.core.display.Markdown object>"
      ]
     },
     "metadata": {},
     "output_type": "display_data"
    }
   ],
   "source": [
    "display_file(report_py, 'python')"
   ]
  },
  {
   "cell_type": "markdown",
   "metadata": {},
   "source": [
    "### Content of `static/create_table.sql`"
   ]
  },
  {
   "cell_type": "code",
   "execution_count": 9,
   "metadata": {},
   "outputs": [
    {
     "data": {
      "text/markdown": [
       "\n",
       "```sql\n",
       "\n",
       "-- static/clean_table.sql\n",
       "\n",
       "DROP TABLE IF EXISTS {{product}};\n",
       "\n",
       "CREATE TABLE {{product}}\n",
       "AS SELECT * FROM {{upstream[\"raw_table\"]}}\n",
       "WHERE AGE < 100\n",
       "\n",
       "```\n"
      ],
      "text/plain": [
       "<IPython.core.display.Markdown object>"
      ]
     },
     "metadata": {},
     "output_type": "display_data"
    }
   ],
   "source": [
    "display_file(clean_table_sql, 'sql')"
   ]
  },
  {
   "cell_type": "markdown",
   "metadata": {},
   "source": [
    "### Pipeline declaration"
   ]
  },
  {
   "cell_type": "code",
   "execution_count": 23,
   "metadata": {},
   "outputs": [],
   "source": [
    "def _get_data(product):\n",
    "    data = datasets.load_boston()\n",
    "    df = pd.DataFrame(data.data)\n",
    "    df.columns = data.feature_names\n",
    "    df['price'] = data.target\n",
    "    df.to_parquet(str(product))\n",
    "\n",
    "\n",
    "@with_env\n",
    "def make(env):\n",
    "    dag = DAG()\n",
    "\n",
    "    client = SQLAlchemyClient('sqlite:///my_db.db')\n",
    "    dag.clients[SQLUpload] = client\n",
    "    dag.clients[SQLiteRelation] = client\n",
    "    dag.clients[SQLScript] = client\n",
    "\n",
    "    # initialize SourceLoader in our static directory\n",
    "    loader = SourceLoader(path=env.path.static)\n",
    "\n",
    "    get_data = PythonCallable(_get_data,\n",
    "                              product=File(tmp_dir / 'raw.parquet'),\n",
    "                              dag=dag,\n",
    "                              name='raw')\n",
    "\n",
    "    # if we do not pass a name, the filename will be used as default\n",
    "    report = NotebookRunner(loader['report.py'],\n",
    "                            product=File(tmp_dir / 'report.html'),\n",
    "                            dag=dag,\n",
    "                            kernelspec_name='python3',\n",
    "                            ext_in='py')\n",
    "\n",
    "    raw_table = SQLUpload(source='{{upstream[\"raw\"]}}',\n",
    "                         product=SQLiteRelation(('raw', 'table')),\n",
    "                         dag=dag,\n",
    "                         name='raw_table')\n",
    "\n",
    "    # same here, no need to pass a name\n",
    "    clean_table = SQLScript(loader['clean_table.sql'],\n",
    "                            product=SQLiteRelation(('clean', 'table')),\n",
    "                            dag=dag)\n",
    "\n",
    "    get_data >> report\n",
    "    get_data >> raw_table >> clean_table\n",
    "    \n",
    "    return dag\n",
    "\n",
    "\n",
    "dag = make()"
   ]
  },
  {
   "cell_type": "markdown",
   "metadata": {},
   "source": [
    "### Pipeline status"
   ]
  },
  {
   "cell_type": "code",
   "execution_count": 25,
   "metadata": {},
   "outputs": [
    {
     "data": {
      "application/vnd.jupyter.widget-view+json": {
       "model_id": "b4397553893d4018951d0e8b913f7f9e",
       "version_major": 2,
       "version_minor": 0
      },
      "text/plain": [
       "HBox(children=(FloatProgress(value=0.0, max=4.0), HTML(value='')))"
      ]
     },
     "metadata": {},
     "output_type": "display_data"
    },
    {
     "name": "stdout",
     "output_type": "stream",
     "text": [
      "\n"
     ]
    },
    {
     "data": {
      "text/html": [
       "<table>\n",
       "<thead>\n",
       "<tr><th>name           </th><th>Last updated    </th><th>Outdated dependencies  </th><th>Outdated code  </th><th>Product                                                                 </th><th>Doc (short)  </th><th>Location                                                                                   </th></tr>\n",
       "</thead>\n",
       "<tbody>\n",
       "<tr><td>raw            </td><td>Has not been run</td><td>False                  </td><td>True           </td><td>/var/folders/3h/_lvh_w_x5g30rrjzb_xnn2j80000gq/T/tmpwoaxfkcc/raw.parquet</td><td>             </td><td><ipython-input-23-660343c50db1>:1                                                          </td></tr>\n",
       "<tr><td>report.py      </td><td>Has not been run</td><td>True                   </td><td>True           </td><td>/var/folders/3h/_lvh_w_x5g30rrjzb_xnn2j80000gq/T/tmpwoaxfkcc/report.html</td><td>             </td><td>/private/var/folders/3h/_lvh_w_x5g30rrjzb_xnn2j80000gq/T/tmpwoaxfkcc/static/report.py      </td></tr>\n",
       "<tr><td>raw_table      </td><td>Has not been run</td><td>True                   </td><td>True           </td><td>raw                                                                     </td><td>             </td><td>                                                                                           </td></tr>\n",
       "<tr><td>clean_table.sql</td><td>Has not been run</td><td>True                   </td><td>True           </td><td>clean                                                                   </td><td>             </td><td>/private/var/folders/3h/_lvh_w_x5g30rrjzb_xnn2j80000gq/T/tmpwoaxfkcc/static/clean_table.sql</td></tr>\n",
       "</tbody>\n",
       "</table>"
      ],
      "text/plain": [
       "name             Last updated      Outdated dependencies    Outdated code    Product                                                                   Doc (short)    Location\n",
       "---------------  ----------------  -----------------------  ---------------  ------------------------------------------------------------------------  -------------  -------------------------------------------------------------------------------------------\n",
       "raw              Has not been run  False                    True             /var/folders/3h/_lvh_w_x5g30rrjzb_xnn2j80000gq/T/tmpwoaxfkcc/raw.parquet                 <ipython-input-23-660343c50db1>:1\n",
       "report.py        Has not been run  True                     True             /var/folders/3h/_lvh_w_x5g30rrjzb_xnn2j80000gq/T/tmpwoaxfkcc/report.html                 /private/var/folders/3h/_lvh_w_x5g30rrjzb_xnn2j80000gq/T/tmpwoaxfkcc/static/report.py\n",
       "raw_table        Has not been run  True                     True             raw\n",
       "clean_table.sql  Has not been run  True                     True             clean                                                                                    /private/var/folders/3h/_lvh_w_x5g30rrjzb_xnn2j80000gq/T/tmpwoaxfkcc/static/clean_table.sql"
      ]
     },
     "execution_count": 25,
     "metadata": {},
     "output_type": "execute_result"
    }
   ],
   "source": [
    "# Using SourceLoader automatically adds 'Location' column which points to the the source code location\n",
    "dag.status()"
   ]
  },
  {
   "cell_type": "code",
   "execution_count": 26,
   "metadata": {},
   "outputs": [
    {
     "data": {
      "application/vnd.jupyter.widget-view+json": {
       "model_id": "3702cb4606894528a8f9df8b68d0a721",
       "version_major": 2,
       "version_minor": 0
      },
      "text/plain": [
       "HBox(children=(FloatProgress(value=0.0, max=4.0), HTML(value='')))"
      ]
     },
     "metadata": {},
     "output_type": "display_data"
    },
    {
     "name": "stdout",
     "output_type": "stream",
     "text": [
      "\n"
     ]
    },
    {
     "data": {
      "application/vnd.jupyter.widget-view+json": {
       "model_id": "b7327239517c41488031f32ca675264a",
       "version_major": 2,
       "version_minor": 0
      },
      "text/plain": [
       "HBox(children=(FloatProgress(value=0.0, max=4.0), HTML(value='')))"
      ]
     },
     "metadata": {},
     "output_type": "display_data"
    },
    {
     "data": {
      "application/vnd.jupyter.widget-view+json": {
       "model_id": "37df16f4f5804822921e41c77c654a1b",
       "version_major": 2,
       "version_minor": 0
      },
      "text/plain": [
       "HBox(children=(FloatProgress(value=0.0, description='Executing', max=10.0, style=ProgressStyle(description_wid…"
      ]
     },
     "metadata": {},
     "output_type": "display_data"
    },
    {
     "name": "stdout",
     "output_type": "stream",
     "text": [
      "\n",
      "\n"
     ]
    },
    {
     "data": {
      "text/html": [
       "<table>\n",
       "<thead>\n",
       "<tr><th>name           </th><th>Ran?  </th><th style=\"text-align: right;\">  Elapsed (s)</th><th style=\"text-align: right;\">  Percentage</th></tr>\n",
       "</thead>\n",
       "<tbody>\n",
       "<tr><td>raw            </td><td>True  </td><td style=\"text-align: right;\">     0.121862</td><td style=\"text-align: right;\">    3.79201 </td></tr>\n",
       "<tr><td>raw_table      </td><td>True  </td><td style=\"text-align: right;\">     0.037928</td><td style=\"text-align: right;\">    1.18021 </td></tr>\n",
       "<tr><td>clean_table.sql</td><td>True  </td><td style=\"text-align: right;\">     0.003544</td><td style=\"text-align: right;\">    0.110279</td></tr>\n",
       "<tr><td>report.py      </td><td>True  </td><td style=\"text-align: right;\">     3.05032 </td><td style=\"text-align: right;\">   94.9175  </td></tr>\n",
       "</tbody>\n",
       "</table>"
      ],
      "text/plain": [
       "name             Ran?      Elapsed (s)    Percentage\n",
       "---------------  ------  -------------  ------------\n",
       "raw              True         0.121862      3.79201\n",
       "raw_table        True         0.037928      1.18021\n",
       "clean_table.sql  True         0.003544      0.110279\n",
       "report.py        True         3.05032      94.9175"
      ]
     },
     "execution_count": 26,
     "metadata": {},
     "output_type": "execute_result"
    }
   ],
   "source": [
    "dag.build()"
   ]
  },
  {
   "cell_type": "markdown",
   "metadata": {},
   "source": [
    "## Advanced jinja2 features\n",
    "\n",
    "`SourceLoader` initializes a proper jinja2 environment, so you can use features such as [macros](https://jinja.palletsprojects.com/en/2.11.x/templates/#macros), this is very useful to maximize SQL code reusability."
   ]
  },
  {
   "cell_type": "code",
   "execution_count": 27,
   "metadata": {
    "nbsphinx": "hidden"
   },
   "outputs": [],
   "source": [
    "shutil.rmtree(tmp_dir)"
   ]
  }
 ],
 "metadata": {
  "celltoolbar": "Edit Metadata",
  "kernelspec": {
   "display_name": "Python 3",
   "language": "python",
   "name": "python3"
  },
  "language_info": {
   "codemirror_mode": {
    "name": "ipython",
    "version": 3
   },
   "file_extension": ".py",
   "mimetype": "text/x-python",
   "name": "python",
   "nbconvert_exporter": "python",
   "pygments_lexer": "ipython3",
   "version": "3.6.10"
  }
 },
 "nbformat": 4,
 "nbformat_minor": 4
}
