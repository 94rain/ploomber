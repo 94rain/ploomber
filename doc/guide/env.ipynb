{
 "cells": [
  {
   "cell_type": "markdown",
   "metadata": {},
   "source": [
    "# Environments\n",
    "\n",
    "Environments allow DAGs to easily switch configuration parameters. These happens for three reasons primarily:\n",
    "\n",
    "### 1. Allow team members to use the same DAG definition but run in isolated environments\n",
    "\n",
    "If a DAG is developed by more than one person, you don't want others to accidentally write your files or tables. Ideally, each member should have a completely isolated environment (e.g. users write to their own `/data/{{user}}` folder in the shared server and `{{user}}` schema in the database), but if this is not possible for data scale reasons, there could be overlapping environments.\n",
    "\n",
    "### 2. Let multiple runs from the same pipeline co-exist\n",
    "\n",
    "It is a good practice to always have a working version of your code, this is usually done by using a VCS such as git by keeping working code in the `master` branch. Say you finished building your DAG from the `master` banch and now you want to work on a new feature in a `dev` branch, if you switch branches and start making code changes, calling `dag.build()` will overwrite your results, to prevent this from happening you could have one copy for each branch, this way you can work on `dev` and always have a working up-to-date pipeline run for the code stored in `master`.\n",
    "\n",
    "### 3. Switch between production and development environments\n",
    "\n",
    "\n",
    "An environment can be started either by passing a dictionary or a path to a YAML file, `Env` also implements a rendering logic where placeholders are resolved, this allows a single DAG definition to switch configuration automatically. Let's implement use case (1) to allow team members have their own environments"
   ]
  },
  {
   "cell_type": "code",
   "execution_count": 1,
   "metadata": {},
   "outputs": [],
   "source": [
    "import os\n",
    "import shutil\n",
    "from pathlib import Path\n",
    "import tempfile\n",
    "\n",
    "import pandas as pd\n",
    "\n",
    "from ploomber import DAG\n",
    "from ploomber import Env, with_env\n",
    "from ploomber.tasks import PythonCallable\n",
    "from ploomber.products import File"
   ]
  },
  {
   "cell_type": "code",
   "execution_count": 2,
   "metadata": {},
   "outputs": [
    {
     "name": "stdout",
     "output_type": "stream",
     "text": [
      "{'path': {'data': PosixPath('/data/Edu')}, 'db': {'uri': 'DB_URI', 'schema': 'edu'}}\n"
     ]
    }
   ],
   "source": [
    "env = Env.start({'path': {'data': '/data/{{user}}'}, 'db': {'uri': 'DB_URI', 'schema': '{{user.lower()}}'}})\n",
    "print(env)\n",
    "Env.end()"
   ]
  },
  {
   "cell_type": "markdown",
   "metadata": {},
   "source": [
    "## Integrating Env and DAG\n",
    "\n",
    "In the previous example, we started and ended and Env manually, to automatically manage the Env lifecycle, the \"factory\" pattern is introduced.\n",
    "\n",
    "### Factory pattern\n",
    "\n",
    "The factory pattern (do not confuse with the pattern in [OOP](https://en.wikipedia.org/wiki/Factory_method_pattern) is simply to have functions return DAG instances:"
   ]
  },
  {
   "cell_type": "code",
   "execution_count": 3,
   "metadata": {},
   "outputs": [],
   "source": [
    "def make():\n",
    "    \"\"\"Simplest factory possible\n",
    "    \"\"\"\n",
    "    return DAG()"
   ]
  },
  {
   "cell_type": "markdown",
   "metadata": {},
   "source": [
    "Using the factory pattern makes easy to restrict an Env's life to the body of the function using the `@with_env` decorator."
   ]
  },
  {
   "cell_type": "code",
   "execution_count": 4,
   "metadata": {},
   "outputs": [
    {
     "name": "stdout",
     "output_type": "stream",
     "text": [
      "Env is: {'path': {'data': PosixPath('/data/Edu')}}\n"
     ]
    }
   ],
   "source": [
    "@with_env({'path': {'data': '/data/{{user}}'}})\n",
    "def make(env):\n",
    "    \"\"\"Simplest factory possible\n",
    "    \"\"\"\n",
    "    print('Env is:', env)\n",
    "    return DAG()\n",
    "\n",
    "dag = make()"
   ]
  },
  {
   "cell_type": "markdown",
   "metadata": {},
   "source": [
    "By coding DAGs this way we can have a single DAG definition whose configuration is automatically resolved at declaration time (inside the function), hence, if someone else calls this function, their environment will be resolved to their corresponding data folder.\n",
    "\n",
    "Note that we called `make()` without arguments, that's because the decorator injects the environment automatically."
   ]
  },
  {
   "cell_type": "markdown",
   "metadata": {},
   "source": [
    "## Using the `{{git}}` placeholder for environment isolation\n",
    "\n",
    "\n",
    "`{{git}}` allows you to switch configuration depending on the your project's revision. But before resolving its value, `Env` has to resolve your project's module path (call it `MODULE_PATH`). In order to do that, you need to provide the `_module` key. Assuming your env is `{'_module: MODULE_VALUE'}` processing goes as follows:\n",
    "\n",
    "First, try to locate a module named `MODULE_VALUE` (similar to what `import MODULE_VALUE` would do but without actually importing the module), if found, the module's location is your `MODULE_PATH`, if no module is found with such name, interpret `MODULE_VALUE` directly as `MODULE_PATH`.\n",
    "\n",
    "Once `MODULE_PATH` is determined, `{{git}}` will assume there is a git repository in `MODULE_PATH` and return the branch name if you are at the latest commit, otherwise it will return the git hash. This will allow you to keep isolated pipeline runs, one per branch. Furthermore, if you move to a specific commit and run your pipeline this will prevent overwriting your current working code."
   ]
  },
  {
   "cell_type": "code",
   "execution_count": 5,
   "metadata": {},
   "outputs": [
    {
     "name": "stdout",
     "output_type": "stream",
     "text": [
      "Temporary project's root folder:  /var/folders/3h/_lvh_w_x5g30rrjzb_xnn2j80000gq/T/tmpey9y5110\n"
     ]
    }
   ],
   "source": [
    "# hide setup\n",
    "tmp_dir = tempfile.mkdtemp()\n",
    "print(\"Temporary project's root folder: \", tmp_dir)\n",
    "os.chdir(tmp_dir)"
   ]
  },
  {
   "cell_type": "code",
   "execution_count": 6,
   "metadata": {},
   "outputs": [
    {
     "name": "stdout",
     "output_type": "stream",
     "text": [
      "Initialized empty Git repository in /private/var/folders/3h/_lvh_w_x5g30rrjzb_xnn2j80000gq/T/tmpey9y5110/.git/\n",
      "[master (root-commit) b2b7fe8] first commit\n",
      " 1 file changed, 0 insertions(+), 0 deletions(-)\n",
      " create mode 100644 a_file.py\n",
      "[master 3a5f594] second commit\n",
      " 1 file changed, 0 insertions(+), 0 deletions(-)\n",
      " create mode 100644 another_file.py\n"
     ]
    }
   ],
   "source": [
    "# create a sample repository\n",
    "! git init\n",
    "# add first commit\n",
    "! touch a_file.py\n",
    "! git add --all\n",
    "! git commit -m 'first commit'\n",
    "! touch another_file.py\n",
    "! git add --all\n",
    "! git commit -m 'second commit'"
   ]
  },
  {
   "cell_type": "code",
   "execution_count": 7,
   "metadata": {},
   "outputs": [
    {
     "name": "stdout",
     "output_type": "stream",
     "text": [
      "env.path.data: /data/master\n"
     ]
    }
   ],
   "source": [
    "# we are at the tip of the master branch\n",
    "Env.start({'_module': tmp_dir, 'path': {'data': '/data/{{git}}'}})\n",
    "print('env.path.data:', env.path.data)\n",
    "Env.end()"
   ]
  },
  {
   "cell_type": "code",
   "execution_count": 8,
   "metadata": {},
   "outputs": [
    {
     "name": "stdout",
     "output_type": "stream",
     "text": [
      "Switched to a new branch 'dev'\r\n"
     ]
    }
   ],
   "source": [
    "! git checkout -b dev"
   ]
  },
  {
   "cell_type": "code",
   "execution_count": 9,
   "metadata": {},
   "outputs": [
    {
     "name": "stdout",
     "output_type": "stream",
     "text": [
      "env.path.data: /data/dev\n"
     ]
    }
   ],
   "source": [
    "# we are at the tip of the dev branch\n",
    "Env.start({'_module': tmp_dir, 'path': {'data': '/data/{{git}}'}})\n",
    "print('env.path.data:', env.path.data)\n",
    "Env.end()"
   ]
  },
  {
   "cell_type": "code",
   "execution_count": 10,
   "metadata": {},
   "outputs": [
    {
     "name": "stdout",
     "output_type": "stream",
     "text": [
      "Note: switching to 'HEAD~1'.\r\n",
      "\r\n",
      "You are in 'detached HEAD' state. You can look around, make experimental\r\n",
      "changes and commit them, and you can discard any commits you make in this\r\n",
      "state without impacting any branches by switching back to a branch.\r\n",
      "\r\n",
      "If you want to create a new branch to retain commits you create, you may\r\n",
      "do so (now or later) by using -c with the switch command. Example:\r\n",
      "\r\n",
      "  git switch -c <new-branch-name>\r\n",
      "\r\n",
      "Or undo this operation with:\r\n",
      "\r\n",
      "  git switch -\r\n",
      "\r\n",
      "Turn off this advice by setting config variable advice.detachedHead to false\r\n",
      "\r\n",
      "HEAD is now at b2b7fe8 first commit\r\n"
     ]
    }
   ],
   "source": [
    "! git checkout HEAD~1"
   ]
  },
  {
   "cell_type": "code",
   "execution_count": 11,
   "metadata": {},
   "outputs": [
    {
     "name": "stdout",
     "output_type": "stream",
     "text": [
      "env.path.data: /data/b2b7fe8\n"
     ]
    }
   ],
   "source": [
    "# we moved to a specific commit\n",
    "Env.start({'_module': tmp_dir, 'path': {'data': '/data/{{git}}'}})\n",
    "print('env.path.data:', env.path.data)\n",
    "Env.end()"
   ]
  },
  {
   "cell_type": "code",
   "execution_count": 12,
   "metadata": {},
   "outputs": [
    {
     "name": "stdout",
     "output_type": "stream",
     "text": [
      "Previous HEAD position was b2b7fe8 first commit\r\n",
      "Switched to branch 'dev'\r\n"
     ]
    }
   ],
   "source": [
    "# hide this\n",
    "! git checkout dev"
   ]
  },
  {
   "cell_type": "markdown",
   "metadata": {},
   "source": [
    "## Loading environments from YAML files\n",
    "\n",
    "automatic file finding"
   ]
  },
  {
   "cell_type": "markdown",
   "metadata": {},
   "source": [
    "## Putting everything together"
   ]
  },
  {
   "cell_type": "code",
   "execution_count": 13,
   "metadata": {},
   "outputs": [],
   "source": [
    "# hide this\n",
    "code = \"\"\"\n",
    "# Content of main.py\n",
    "\n",
    "from ploomber import DAG, with_env\n",
    "from ploomber.tasks import PythonCallable\n",
    "from ploomber.products import File\n",
    "\n",
    "import pandas as pd\n",
    "from sklearn.datasets import load_wine\n",
    "\n",
    "\n",
    "@with_env\n",
    "def make(env):\n",
    "    \\\"\\\"\\\"DAG factory\n",
    "    \\\"\\\"\\\"\n",
    "    env.path.data.mkdir(parents=True, exist_ok=True)\n",
    "\n",
    "    dag = DAG(name='my pipeline')\n",
    "\n",
    "    get = PythonCallable(_get,\n",
    "                         product=File(env.path.data / 'data.csv'),\n",
    "                         dag=dag,\n",
    "                         name='data')\n",
    "    \n",
    "    transform = PythonCallable(_transform,\n",
    "                               product=File(env.path.data / 'transformed.csv'),\n",
    "                               dag=dag,\n",
    "                               name='transform')\n",
    "    \n",
    "    get >> transform\n",
    "    \n",
    "    return dag\n",
    "\n",
    "\n",
    "def _get(product):\n",
    "    \\\"\\\"\\\"Get data\n",
    "    \\\"\\\"\\\"\n",
    "    wine = load_wine()\n",
    "    df = pd.DataFrame(wine.data)\n",
    "    df['target'] = wine.target\n",
    "    df.to_csv(str(product))\n",
    "\n",
    "def _transform(upstream, product):\n",
    "    \\\"\\\"\\\"Transform data\n",
    "    \\\"\\\"\\\"\n",
    "    df = pd.read_csv(str(upstream['data']))\n",
    "    df['new_column'] = 42\n",
    "    df.to_csv(str(product))\n",
    "\"\"\"\n",
    "\n",
    "env = \"\"\"\n",
    "# Content of env.yaml\n",
    "\n",
    "_module: .\n",
    "\n",
    "path:\n",
    "    data: '{{here}}/data/{{user}}/{{git}}/'\n",
    "\"\"\""
   ]
  },
  {
   "cell_type": "code",
   "execution_count": 14,
   "metadata": {},
   "outputs": [
    {
     "data": {
      "text/markdown": [
       "\n",
       "```python\n",
       "\n",
       "# Content of main.py\n",
       "\n",
       "from ploomber import DAG, with_env\n",
       "from ploomber.tasks import PythonCallable\n",
       "from ploomber.products import File\n",
       "\n",
       "import pandas as pd\n",
       "from sklearn.datasets import load_wine\n",
       "\n",
       "\n",
       "@with_env\n",
       "def make(env):\n",
       "    \"\"\"DAG factory\n",
       "    \"\"\"\n",
       "    env.path.data.mkdir(parents=True, exist_ok=True)\n",
       "\n",
       "    dag = DAG(name='my pipeline')\n",
       "\n",
       "    get = PythonCallable(_get,\n",
       "                         product=File(env.path.data / 'data.csv'),\n",
       "                         dag=dag,\n",
       "                         name='data')\n",
       "    \n",
       "    transform = PythonCallable(_transform,\n",
       "                               product=File(env.path.data / 'transformed.csv'),\n",
       "                               dag=dag,\n",
       "                               name='transform')\n",
       "    \n",
       "    get >> transform\n",
       "    \n",
       "    return dag\n",
       "\n",
       "\n",
       "def _get(product):\n",
       "    \"\"\"Get red wine data\n",
       "    \"\"\"\n",
       "    wine = load_wine()\n",
       "    df = pd.DataFrame(wine.data)\n",
       "    df['target'] = wine.target\n",
       "    df.to_csv(str(product))\n",
       "\n",
       "def _transform(upstream, product):\n",
       "    \"\"\"Concatenate red and white wine data\n",
       "    \"\"\"\n",
       "    df = pd.read_csv(str(upstream['data']))\n",
       "    df['new_column'] = 42\n",
       "    df.to_csv(str(product))\n",
       "\n",
       "```\n"
      ],
      "text/plain": [
       "<IPython.core.display.Markdown object>"
      ]
     },
     "metadata": {},
     "output_type": "display_data"
    },
    {
     "data": {
      "text/markdown": [
       "\n",
       "```yaml\n",
       "\n",
       "# Content of env.yaml\n",
       "\n",
       "_module: .\n",
       "\n",
       "path:\n",
       "    data: '{{here}}/data/{{user}}/{{git}}/'\n",
       "\n",
       "```\n"
      ],
      "text/plain": [
       "<IPython.core.display.Markdown object>"
      ]
     },
     "metadata": {},
     "output_type": "display_data"
    }
   ],
   "source": [
    "from IPython.display import display, Markdown\n",
    "\n",
    "display(Markdown(\n",
    "\"\"\"\n",
    "```python\n",
    "{}\n",
    "```\n",
    "\"\"\".format(code)))\n",
    "\n",
    "display(Markdown(\n",
    "\"\"\"\n",
    "```yaml\n",
    "{}\n",
    "```\n",
    "\"\"\".format(env)))"
   ]
  },
  {
   "cell_type": "code",
   "execution_count": 15,
   "metadata": {},
   "outputs": [
    {
     "data": {
      "text/plain": [
       "86"
      ]
     },
     "execution_count": 15,
     "metadata": {},
     "output_type": "execute_result"
    }
   ],
   "source": [
    "Path('main.py').write_text(code)\n",
    "Path('env.yaml').write_text(env)"
   ]
  },
  {
   "cell_type": "code",
   "execution_count": 16,
   "metadata": {},
   "outputs": [],
   "source": [
    "import main\n",
    "\n",
    "# TODO: why is the fatal: ref HEAD is not a symbolic ref\n",
    "# message showing up"
   ]
  },
  {
   "cell_type": "code",
   "execution_count": 17,
   "metadata": {},
   "outputs": [
    {
     "data": {
      "application/vnd.jupyter.widget-view+json": {
       "model_id": "537391edfc634a2eac931025238bad59",
       "version_major": 2,
       "version_minor": 0
      },
      "text/plain": [
       "HBox(children=(FloatProgress(value=0.0, max=2.0), HTML(value='')))"
      ]
     },
     "metadata": {},
     "output_type": "display_data"
    },
    {
     "name": "stdout",
     "output_type": "stream",
     "text": [
      "\n"
     ]
    },
    {
     "data": {
      "text/html": [
       "<table>\n",
       "<thead>\n",
       "<tr><th>name     </th><th>Last updated    </th><th>Outdated dependencies  </th><th>Outdated code  </th><th>Product                                                                                          </th><th>Doc (short)                        </th><th>Location                                                                       </th></tr>\n",
       "</thead>\n",
       "<tbody>\n",
       "<tr><td>data     </td><td>Has not been run</td><td>False                  </td><td>True           </td><td>/private/var/folders/3h/_lvh_w_x5g30rrjzb_xnn2j80000gq/T/tmpey9y5110/data/Edu/dev/data.csv       </td><td>Get red wine data                  </td><td>/private/var/folders/3h/_lvh_w_x5g30rrjzb_xnn2j80000gq/T/tmpey9y5110/main.py:35</td></tr>\n",
       "<tr><td>transform</td><td>Has not been run</td><td>True                   </td><td>True           </td><td>/private/var/folders/3h/_lvh_w_x5g30rrjzb_xnn2j80000gq/T/tmpey9y5110/data/Edu/dev/transformed.csv</td><td>Concatenate red and white wine data</td><td>/private/var/folders/3h/_lvh_w_x5g30rrjzb_xnn2j80000gq/T/tmpey9y5110/main.py:43</td></tr>\n",
       "</tbody>\n",
       "</table>"
      ],
      "text/plain": [
       "name       Last updated      Outdated dependencies    Outdated code    Product                                                                                            Doc (short)                          Location\n",
       "---------  ----------------  -----------------------  ---------------  -------------------------------------------------------------------------------------------------  -----------------------------------  -------------------------------------------------------------------------------\n",
       "data       Has not been run  False                    True             /private/var/folders/3h/_lvh_w_x5g30rrjzb_xnn2j80000gq/T/tmpey9y5110/data/Edu/dev/data.csv         Get red wine data                    /private/var/folders/3h/_lvh_w_x5g30rrjzb_xnn2j80000gq/T/tmpey9y5110/main.py:35\n",
       "transform  Has not been run  True                     True             /private/var/folders/3h/_lvh_w_x5g30rrjzb_xnn2j80000gq/T/tmpey9y5110/data/Edu/dev/transformed.csv  Concatenate red and white wine data  /private/var/folders/3h/_lvh_w_x5g30rrjzb_xnn2j80000gq/T/tmpey9y5110/main.py:43"
      ]
     },
     "execution_count": 17,
     "metadata": {},
     "output_type": "execute_result"
    }
   ],
   "source": [
    "dag = main.make()\n",
    "dag.status()"
   ]
  },
  {
   "cell_type": "code",
   "execution_count": 18,
   "metadata": {},
   "outputs": [
    {
     "data": {
      "application/vnd.jupyter.widget-view+json": {
       "model_id": "df2bc90bbc2f4876a2141514884d3190",
       "version_major": 2,
       "version_minor": 0
      },
      "text/plain": [
       "HBox(children=(FloatProgress(value=0.0, max=2.0), HTML(value='')))"
      ]
     },
     "metadata": {},
     "output_type": "display_data"
    },
    {
     "name": "stdout",
     "output_type": "stream",
     "text": [
      "\n"
     ]
    },
    {
     "data": {
      "image/png": "[encoded data removed]",
      "text/plain": [
       "<Figure size 669.6x198.72 with 1 Axes>"
      ]
     },
     "metadata": {
      "needs_background": "light"
     },
     "output_type": "display_data"
    }
   ],
   "source": [
    "_ = dag.plot(output='matplotlib')"
   ]
  },
  {
   "cell_type": "code",
   "execution_count": 19,
   "metadata": {
    "scrolled": false
   },
   "outputs": [
    {
     "data": {
      "application/vnd.jupyter.widget-view+json": {
       "model_id": "0685a81857924229a3c9a1976919aff8",
       "version_major": 2,
       "version_minor": 0
      },
      "text/plain": [
       "HBox(children=(FloatProgress(value=0.0, max=2.0), HTML(value='')))"
      ]
     },
     "metadata": {},
     "output_type": "display_data"
    },
    {
     "name": "stdout",
     "output_type": "stream",
     "text": [
      "\n"
     ]
    },
    {
     "data": {
      "application/vnd.jupyter.widget-view+json": {
       "model_id": "bdef3fba20c949a285fa1dc1c906c7f4",
       "version_major": 2,
       "version_minor": 0
      },
      "text/plain": [
       "HBox(children=(FloatProgress(value=0.0, max=2.0), HTML(value='')))"
      ]
     },
     "metadata": {},
     "output_type": "display_data"
    },
    {
     "name": "stdout",
     "output_type": "stream",
     "text": [
      "\n"
     ]
    },
    {
     "data": {
      "text/html": [
       "<table>\n",
       "<thead>\n",
       "<tr><th>name     </th><th>Ran?  </th><th style=\"text-align: right;\">  Elapsed (s)</th><th style=\"text-align: right;\">  Percentage</th></tr>\n",
       "</thead>\n",
       "<tbody>\n",
       "<tr><td>data     </td><td>True  </td><td style=\"text-align: right;\">     0.163954</td><td style=\"text-align: right;\">      53.139</td></tr>\n",
       "<tr><td>transform</td><td>True  </td><td style=\"text-align: right;\">     0.144584</td><td style=\"text-align: right;\">      46.861</td></tr>\n",
       "</tbody>\n",
       "</table>"
      ],
      "text/plain": [
       "name       Ran?      Elapsed (s)    Percentage\n",
       "---------  ------  -------------  ------------\n",
       "data       True         0.163954        53.139\n",
       "transform  True         0.144584        46.861"
      ]
     },
     "execution_count": 19,
     "metadata": {},
     "output_type": "execute_result"
    }
   ],
   "source": [
    "dag.build(force=True)"
   ]
  },
  {
   "cell_type": "code",
   "execution_count": 20,
   "metadata": {},
   "outputs": [],
   "source": [
    "# cleanup setup\n",
    "shutil.rmtree(tmp_dir)"
   ]
  },
  {
   "cell_type": "markdown",
   "metadata": {},
   "source": [
    "mention that this is resolved at IMPORT TIME\n",
    "\n",
    "maybe keep existing example ?\n",
    " \n",
    "what goes here, what does not go here...\n",
    "\n",
    "only one env at at ime, explain why"
   ]
  }
 ],
 "metadata": {
  "kernelspec": {
   "display_name": "Python 3",
   "language": "python",
   "name": "python3"
  },
  "language_info": {
   "codemirror_mode": {
    "name": "ipython",
    "version": 3
   },
   "file_extension": ".py",
   "mimetype": "text/x-python",
   "name": "python",
   "nbconvert_exporter": "python",
   "pygments_lexer": "ipython3",
   "version": "3.6.10"
  }
 },
 "nbformat": 4,
 "nbformat_minor": 4
}
