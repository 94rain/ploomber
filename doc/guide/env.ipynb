{
 "cells": [
  {
   "cell_type": "markdown",
   "metadata": {},
   "source": [
    "# Environments\n",
    "\n",
    "## Why?\n",
    "\n",
    "Environments allow DAGs to easily switch configuration parameters. These happens for three reasons primarily.\n",
    "\n",
    "### 1. Allow team members to use the same DAG definition but run in isolated environments\n",
    "\n",
    "If a DAG is developed by more than one person, you don't want others to accidentally write your files or tables. Ideally, each member should have a completely isolated environment (e.g. users write to their own `/data/{{user}}` folder in the shared server and `{{user}}` schema in the database), but if this is not possible for data scale reasons, there could be overlapping environments.\n",
    "\n",
    "### 2. Let multiple runs from the same pipeline co-exist\n",
    "\n",
    "It is a good practice to always have a working version of your code, this is usually done by using a VCS such as git by keeping working code in the `master` branch. Say you finished building your DAG from the `master` banch and now you want to work on a new feature in a `dev` branch, if you switch branches and start making code changes, calling `dag.build()` will overwrite your results, to prevent this from happening you could have one copy for each branch, this way you can work on `dev` and always have a working up-to-date pipeline run for the code stored in `master`.\n",
    "\n",
    "### 3. Switch between production and development environments\n",
    "\n",
    "\n",
    "An environment can be started either by passing a dictionary or a path to a YAML file, `Env` also implements a rendering logic where placeholders are resolved, this allows a single DAG definition to switch configuration automatically. Let's implement use case (1) to allow team members have their own environments"
   ]
  },
  {
   "cell_type": "code",
   "execution_count": 1,
   "metadata": {},
   "outputs": [],
   "source": [
    "import os\n",
    "import shutil\n",
    "from pathlib import Path\n",
    "import tempfile\n",
    "\n",
    "import pandas as pd\n",
    "from IPython.display import display, Markdown\n",
    "\n",
    "from ploomber import DAG\n",
    "from ploomber import Env, with_env\n",
    "from ploomber.tasks import PythonCallable\n",
    "from ploomber.products import File"
   ]
  },
  {
   "cell_type": "code",
   "execution_count": 2,
   "metadata": {},
   "outputs": [
    {
     "name": "stdout",
     "output_type": "stream",
     "text": [
      "<ploomber.env.EnvDict.EnvDict object at 0x122d93358>\n"
     ]
    }
   ],
   "source": [
    "env = Env.start({'path': {'data': '/data/{{user}}'}, 'db': {'uri': 'DB_URI', 'schema': '{{user.lower()}}'}})\n",
    "print(env)\n",
    "Env.end()"
   ]
  },
  {
   "cell_type": "markdown",
   "metadata": {},
   "source": [
    "## Integrating Env and DAG\n",
    "\n",
    "In the previous example, we started and ended and Env manually, to automatically manage the Env lifecycle, the \"factory\" pattern is introduced.\n",
    "\n",
    "### Factory pattern\n",
    "\n",
    "The factory pattern (do not confuse with the pattern in [OOP](https://en.wikipedia.org/wiki/Factory_method_pattern) is simply to have functions return DAG instances:"
   ]
  },
  {
   "cell_type": "code",
   "execution_count": 3,
   "metadata": {},
   "outputs": [],
   "source": [
    "def make():\n",
    "    \"\"\"Simplest factory possible\n",
    "    \"\"\"\n",
    "    return DAG()"
   ]
  },
  {
   "cell_type": "markdown",
   "metadata": {},
   "source": [
    "Using the factory pattern makes easy to restrict an Env's life to the body of the function using the `@with_env` decorator."
   ]
  },
  {
   "cell_type": "code",
   "execution_count": 4,
   "metadata": {},
   "outputs": [
    {
     "name": "stdout",
     "output_type": "stream",
     "text": [
      "Env is: <ploomber.env.EnvDict.EnvDict object at 0x12318fbe0>\n"
     ]
    }
   ],
   "source": [
    "@with_env({'path': {'data': '/data/{{user}}'}})\n",
    "def make(env):\n",
    "    \"\"\"Simplest factory possible\n",
    "    \"\"\"\n",
    "    print('Env is:', env)\n",
    "    return DAG()\n",
    "\n",
    "dag = make()"
   ]
  },
  {
   "cell_type": "markdown",
   "metadata": {},
   "source": [
    "By coding DAGs this way we can have a single DAG definition whose configuration is automatically resolved at declaration time (inside the function), hence, if someone else calls this function, their environment will be resolved to their corresponding data folder.\n",
    "\n",
    "Note that we called `make()` without arguments, that's because the decorator injects the environment automatically."
   ]
  },
  {
   "cell_type": "markdown",
   "metadata": {},
   "source": [
    "## Using the `{{git}}` placeholder for environment isolation\n",
    "\n",
    "\n",
    "`{{git}}` allows you to switch configuration depending on the your project's revision. But before resolving its value, `Env` has to resolve your project's module path (call it `MODULE_PATH`). In order to do that, you need to provide the `_module` key. Assuming your env is `{'_module: MODULE_VALUE'}` processing goes as follows:\n",
    "\n",
    "First, try to locate a module named `MODULE_VALUE` (similar to what `import MODULE_VALUE` would do but without actually importing the module), if found, the module's location is your `MODULE_PATH`, if no module is found with such name, interpret `MODULE_VALUE` directly as `MODULE_PATH`.\n",
    "\n",
    "Once `MODULE_PATH` is determined, `{{git}}` will assume there is a git repository in `MODULE_PATH` and return the branch name if you are at the latest commit, otherwise it will return the git hash. This will allow you to keep isolated pipeline runs, one per branch. Furthermore, if you move to a specific commit and run your pipeline this will prevent overwriting your current working code."
   ]
  },
  {
   "cell_type": "code",
   "execution_count": 5,
   "metadata": {
    "nbsphinx": "hidden"
   },
   "outputs": [],
   "source": [
    "# hide setup\n",
    "tmp_dir = tempfile.mkdtemp()\n",
    "tmp_dir_path = Path(tmp_dir)\n",
    "# print(\"Temporary project's root folder: \", tmp_dir)\n",
    "os.chdir(tmp_dir)"
   ]
  },
  {
   "cell_type": "code",
   "execution_count": 6,
   "metadata": {},
   "outputs": [
    {
     "name": "stdout",
     "output_type": "stream",
     "text": [
      "Initialized empty Git repository in /private/var/folders/3h/_lvh_w_x5g30rrjzb_xnn2j80000gq/T/tmpkcp4ku79/.git/\n",
      "[master (root-commit) cae198c] first commit\n",
      " 1 file changed, 0 insertions(+), 0 deletions(-)\n",
      " create mode 100644 a_file.py\n",
      "[master acded30] second commit\n",
      " 1 file changed, 0 insertions(+), 0 deletions(-)\n",
      " create mode 100644 another_file.py\n"
     ]
    }
   ],
   "source": [
    "# create a sample repository\n",
    "! git init\n",
    "# add first commit\n",
    "! touch a_file.py\n",
    "! git add --all\n",
    "! git commit -m 'first commit'\n",
    "! touch another_file.py\n",
    "! git add --all\n",
    "! git commit -m 'second commit'"
   ]
  },
  {
   "cell_type": "code",
   "execution_count": 7,
   "metadata": {},
   "outputs": [
    {
     "name": "stdout",
     "output_type": "stream",
     "text": [
      "env.path.data: /data/master\n"
     ]
    }
   ],
   "source": [
    "# we are at the tip of the master branch\n",
    "Env.start({'_module': tmp_dir, 'path': {'data': '/data/{{git}}'}})\n",
    "print('env.path.data:', env.path.data)\n",
    "Env.end()"
   ]
  },
  {
   "cell_type": "code",
   "execution_count": 8,
   "metadata": {},
   "outputs": [
    {
     "name": "stdout",
     "output_type": "stream",
     "text": [
      "Switched to a new branch 'dev'\r\n"
     ]
    }
   ],
   "source": [
    "! git checkout -b dev"
   ]
  },
  {
   "cell_type": "code",
   "execution_count": 9,
   "metadata": {},
   "outputs": [
    {
     "name": "stdout",
     "output_type": "stream",
     "text": [
      "env.path.data: /data/dev\n"
     ]
    }
   ],
   "source": [
    "# we are at the tip of the dev branch\n",
    "Env.start({'_module': tmp_dir, 'path': {'data': '/data/{{git}}'}})\n",
    "print('env.path.data:', env.path.data)\n",
    "Env.end()"
   ]
  },
  {
   "cell_type": "code",
   "execution_count": 10,
   "metadata": {},
   "outputs": [
    {
     "name": "stdout",
     "output_type": "stream",
     "text": [
      "Note: switching to 'HEAD~1'.\r\n",
      "\r\n",
      "You are in 'detached HEAD' state. You can look around, make experimental\r\n",
      "changes and commit them, and you can discard any commits you make in this\r\n",
      "state without impacting any branches by switching back to a branch.\r\n",
      "\r\n",
      "If you want to create a new branch to retain commits you create, you may\r\n",
      "do so (now or later) by using -c with the switch command. Example:\r\n",
      "\r\n",
      "  git switch -c <new-branch-name>\r\n",
      "\r\n",
      "Or undo this operation with:\r\n",
      "\r\n",
      "  git switch -\r\n",
      "\r\n",
      "Turn off this advice by setting config variable advice.detachedHead to false\r\n",
      "\r\n",
      "HEAD is now at cae198c first commit\r\n"
     ]
    }
   ],
   "source": [
    "! git checkout HEAD~1"
   ]
  },
  {
   "cell_type": "code",
   "execution_count": 11,
   "metadata": {},
   "outputs": [
    {
     "name": "stdout",
     "output_type": "stream",
     "text": [
      "env.path.data: /data/cae198c\n"
     ]
    }
   ],
   "source": [
    "# we moved to a specific commit\n",
    "Env.start({'_module': tmp_dir, 'path': {'data': '/data/{{git}}'}})\n",
    "print('env.path.data:', env.path.data)\n",
    "Env.end()"
   ]
  },
  {
   "cell_type": "code",
   "execution_count": 12,
   "metadata": {},
   "outputs": [
    {
     "name": "stdout",
     "output_type": "stream",
     "text": [
      "Previous HEAD position was cae198c first commit\r\n",
      "Switched to branch 'dev'\r\n"
     ]
    }
   ],
   "source": [
    "# hide this\n",
    "! git checkout dev"
   ]
  },
  {
   "cell_type": "markdown",
   "metadata": {},
   "source": [
    "## Loading environments from YAML files\n",
    "\n",
    "In the previous examples, we've been coding our configuration directly as a dictionary, however, for a real project we want to keep configuration and code separate. Env also accepts paths to YAML as arguments:"
   ]
  },
  {
   "cell_type": "code",
   "execution_count": 13,
   "metadata": {
    "nbsphinx": "hidden"
   },
   "outputs": [],
   "source": [
    "env_yaml = \"\"\"\n",
    "path:\n",
    "    data: '/data/{{user}}'\n",
    "\n",
    "db:\n",
    "    uri: 'DB_URI'\n",
    "    schema: '{{user.lower()}}'\n",
    "\"\"\"\n",
    "\n",
    "(tmp_dir_path / 'env.yaml').write_text(env_yaml)\n",
    "\n",
    "def display_file(file, syntax):\n",
    "    s = \"\"\"\n",
    "```{}\n",
    "{}\n",
    "```\n",
    "\"\"\".format(syntax, file)\n",
    "    return display(Markdown(s))"
   ]
  },
  {
   "cell_type": "code",
   "execution_count": 14,
   "metadata": {},
   "outputs": [
    {
     "data": {
      "text/markdown": [
       "\n",
       "```yaml\n",
       "\n",
       "path:\n",
       "    data: '/data/{{user}}'\n",
       "\n",
       "db:\n",
       "    uri: 'DB_URI'\n",
       "    schema: '{{user.lower()}}'\n",
       "\n",
       "```\n"
      ],
      "text/plain": [
       "<IPython.core.display.Markdown object>"
      ]
     },
     "metadata": {},
     "output_type": "display_data"
    }
   ],
   "source": [
    "display_file(env_yaml, 'yaml')"
   ]
  },
  {
   "cell_type": "code",
   "execution_count": 15,
   "metadata": {},
   "outputs": [
    {
     "name": "stdout",
     "output_type": "stream",
     "text": [
      "Env:  <ploomber.env.EnvDict.EnvDict object at 0x1268244a8>\n"
     ]
    }
   ],
   "source": [
    "env = Env.start()\n",
    "print('Env: ', env)\n",
    "Env.end()"
   ]
  },
  {
   "cell_type": "markdown",
   "metadata": {},
   "source": [
    "## What goes in? What leave out?"
   ]
  },
  {
   "cell_type": "code",
   "execution_count": null,
   "metadata": {},
   "outputs": [],
   "source": []
  },
  {
   "cell_type": "markdown",
   "metadata": {},
   "source": [
    "## Putting everything together"
   ]
  },
  {
   "cell_type": "code",
   "execution_count": 25,
   "metadata": {
    "nbsphinx": "hidden"
   },
   "outputs": [
    {
     "name": "stderr",
     "output_type": "stream",
     "text": [
      "ERROR:root:Internal Python error in the inspect module.\n",
      "Below is the traceback from this internal error.\n",
      "\n"
     ]
    },
    {
     "name": "stdout",
     "output_type": "stream",
     "text": [
      "Traceback (most recent call last):\n",
      "  File \"/Users/Edu/miniconda3/envs/ploomber/lib/python3.6/site-packages/IPython/core/interactiveshell.py\", line 3331, in run_code\n",
      "    exec(code_obj, self.user_global_ns, self.user_ns)\n",
      "  File \"<ipython-input-25-0002229e59fa>\", line 61, in <module>\n",
      "    Path('main.py').write_text(code)\n",
      "  File \"/Users/Edu/miniconda3/envs/ploomber/lib/python3.6/pathlib.py\", line 1215, in write_text\n",
      "    with self.open(mode='w', encoding=encoding, errors=errors) as f:\n",
      "  File \"/Users/Edu/miniconda3/envs/ploomber/lib/python3.6/pathlib.py\", line 1183, in open\n",
      "    opener=self._opener)\n",
      "  File \"/Users/Edu/miniconda3/envs/ploomber/lib/python3.6/pathlib.py\", line 1037, in _opener\n",
      "    return self._accessor.open(self, flags, mode)\n",
      "  File \"/Users/Edu/miniconda3/envs/ploomber/lib/python3.6/pathlib.py\", line 387, in wrapped\n",
      "    return strfunc(str(pathobj), *args)\n",
      "FileNotFoundError: [Errno 2] No such file or directory: 'main.py'\n",
      "\n",
      "During handling of the above exception, another exception occurred:\n",
      "\n",
      "Traceback (most recent call last):\n",
      "  File \"/Users/Edu/miniconda3/envs/ploomber/lib/python3.6/site-packages/IPython/core/interactiveshell.py\", line 2044, in showtraceback\n",
      "    stb = value._render_traceback_()\n",
      "AttributeError: 'FileNotFoundError' object has no attribute '_render_traceback_'\n",
      "\n",
      "During handling of the above exception, another exception occurred:\n",
      "\n",
      "Traceback (most recent call last):\n",
      "  File \"/Users/Edu/miniconda3/envs/ploomber/lib/python3.6/site-packages/IPython/core/ultratb.py\", line 1151, in get_records\n",
      "    return _fixed_getinnerframes(etb, number_of_lines_of_context, tb_offset)\n",
      "  File \"/Users/Edu/miniconda3/envs/ploomber/lib/python3.6/site-packages/IPython/core/ultratb.py\", line 319, in wrapped\n",
      "    return f(*args, **kwargs)\n",
      "  File \"/Users/Edu/miniconda3/envs/ploomber/lib/python3.6/site-packages/IPython/core/ultratb.py\", line 353, in _fixed_getinnerframes\n",
      "    records = fix_frame_records_filenames(inspect.getinnerframes(etb, context))\n",
      "  File \"/Users/Edu/miniconda3/envs/ploomber/lib/python3.6/inspect.py\", line 1490, in getinnerframes\n",
      "    frameinfo = (tb.tb_frame,) + getframeinfo(tb, context)\n",
      "  File \"/Users/Edu/miniconda3/envs/ploomber/lib/python3.6/inspect.py\", line 1448, in getframeinfo\n",
      "    filename = getsourcefile(frame) or getfile(frame)\n",
      "  File \"/Users/Edu/miniconda3/envs/ploomber/lib/python3.6/inspect.py\", line 696, in getsourcefile\n",
      "    if getattr(getmodule(object, filename), '__loader__', None) is not None:\n",
      "  File \"/Users/Edu/miniconda3/envs/ploomber/lib/python3.6/inspect.py\", line 725, in getmodule\n",
      "    file = getabsfile(object, _filename)\n",
      "  File \"/Users/Edu/miniconda3/envs/ploomber/lib/python3.6/inspect.py\", line 709, in getabsfile\n",
      "    return os.path.normcase(os.path.abspath(_filename))\n",
      "  File \"/Users/Edu/miniconda3/envs/ploomber/lib/python3.6/posixpath.py\", line 383, in abspath\n",
      "    cwd = os.getcwd()\n",
      "FileNotFoundError: [Errno 2] No such file or directory\n"
     ]
    },
    {
     "ename": "FileNotFoundError",
     "evalue": "[Errno 2] No such file or directory: 'main.py'",
     "output_type": "error",
     "traceback": [
      "\u001b[0;31m---------------------------------------------------------------------------\u001b[0m"
     ]
    }
   ],
   "source": [
    "# hide this\n",
    "code = \"\"\"\n",
    "# Content of main.py\n",
    "\n",
    "from ploomber import DAG, with_env\n",
    "from ploomber.tasks import PythonCallable\n",
    "from ploomber.products import File\n",
    "\n",
    "import pandas as pd\n",
    "from sklearn.datasets import load_wine\n",
    "\n",
    "\n",
    "@with_env\n",
    "def make(env):\n",
    "    \\\"\\\"\\\"DAG factory\n",
    "    \\\"\\\"\\\"\n",
    "    env.path.data.mkdir(parents=True, exist_ok=True)\n",
    "\n",
    "    dag = DAG(name='my pipeline')\n",
    "\n",
    "    get = PythonCallable(_get,\n",
    "                         product=File(env.path.data / 'data.csv'),\n",
    "                         dag=dag,\n",
    "                         name='data')\n",
    "    \n",
    "    transform = PythonCallable(_transform,\n",
    "                               product=File(env.path.data / 'transformed.csv'),\n",
    "                               dag=dag,\n",
    "                               name='transform')\n",
    "    \n",
    "    get >> transform\n",
    "    \n",
    "    return dag\n",
    "\n",
    "\n",
    "def _get(product):\n",
    "    \\\"\\\"\\\"Get data\n",
    "    \\\"\\\"\\\"\n",
    "    wine = load_wine()\n",
    "    df = pd.DataFrame(wine.data)\n",
    "    df['target'] = wine.target\n",
    "    df.to_csv(str(product))\n",
    "\n",
    "def _transform(upstream, product):\n",
    "    \\\"\\\"\\\"Transform data\n",
    "    \\\"\\\"\\\"\n",
    "    df = pd.read_csv(str(upstream['data']))\n",
    "    df['new_column'] = 42\n",
    "    df.to_csv(str(product))\n",
    "\"\"\"\n",
    "\n",
    "env = \"\"\"\n",
    "# Content of env.yaml\n",
    "\n",
    "_module: '{{here}}'\n",
    "\n",
    "path:\n",
    "    data: '{{here}}/data/{{user}}/{{git}}/'\n",
    "\"\"\"\n",
    "\n",
    "Path('main.py').write_text(code)\n",
    "Path('env.yaml').write_text(env)"
   ]
  },
  {
   "cell_type": "markdown",
   "metadata": {},
   "source": [
    "### Content of `main.py`"
   ]
  },
  {
   "cell_type": "code",
   "execution_count": 17,
   "metadata": {},
   "outputs": [
    {
     "data": {
      "text/markdown": [
       "\n",
       "```python\n",
       "\n",
       "# Content of main.py\n",
       "\n",
       "from ploomber import DAG, with_env\n",
       "from ploomber.tasks import PythonCallable\n",
       "from ploomber.products import File\n",
       "\n",
       "import pandas as pd\n",
       "from sklearn.datasets import load_wine\n",
       "\n",
       "\n",
       "@with_env\n",
       "def make(env):\n",
       "    \"\"\"DAG factory\n",
       "    \"\"\"\n",
       "    env.path.data.mkdir(parents=True, exist_ok=True)\n",
       "\n",
       "    dag = DAG(name='my pipeline')\n",
       "\n",
       "    get = PythonCallable(_get,\n",
       "                         product=File(env.path.data / 'data.csv'),\n",
       "                         dag=dag,\n",
       "                         name='data')\n",
       "    \n",
       "    transform = PythonCallable(_transform,\n",
       "                               product=File(env.path.data / 'transformed.csv'),\n",
       "                               dag=dag,\n",
       "                               name='transform')\n",
       "    \n",
       "    get >> transform\n",
       "    \n",
       "    return dag\n",
       "\n",
       "\n",
       "def _get(product):\n",
       "    \"\"\"Get data\n",
       "    \"\"\"\n",
       "    wine = load_wine()\n",
       "    df = pd.DataFrame(wine.data)\n",
       "    df['target'] = wine.target\n",
       "    df.to_csv(str(product))\n",
       "\n",
       "def _transform(upstream, product):\n",
       "    \"\"\"Transform data\n",
       "    \"\"\"\n",
       "    df = pd.read_csv(str(upstream['data']))\n",
       "    df['new_column'] = 42\n",
       "    df.to_csv(str(product))\n",
       "\n",
       "```\n"
      ],
      "text/plain": [
       "<IPython.core.display.Markdown object>"
      ]
     },
     "metadata": {},
     "output_type": "display_data"
    }
   ],
   "source": [
    "display_file(code, 'python')"
   ]
  },
  {
   "cell_type": "markdown",
   "metadata": {},
   "source": [
    "### Content of `env.yaml`"
   ]
  },
  {
   "cell_type": "code",
   "execution_count": 24,
   "metadata": {},
   "outputs": [
    {
     "data": {
      "text/markdown": [
       "\n",
       "```yaml\n",
       "\n",
       "# Content of env.yaml\n",
       "\n",
       "_module: '{{here}}'\n",
       "\n",
       "path:\n",
       "    data: '{{here}}/data/{{user}}/{{git}}/'\n",
       "\n",
       "```\n"
      ],
      "text/plain": [
       "<IPython.core.display.Markdown object>"
      ]
     },
     "metadata": {},
     "output_type": "display_data"
    }
   ],
   "source": [
    "display_file(env, 'yaml')"
   ]
  },
  {
   "cell_type": "code",
   "execution_count": 19,
   "metadata": {},
   "outputs": [],
   "source": [
    "import main\n",
    "# TODO: why is the fatal: ref HEAD is not a symbolic ref\n",
    "# message showing up"
   ]
  },
  {
   "cell_type": "code",
   "execution_count": 20,
   "metadata": {},
   "outputs": [
    {
     "data": {
      "application/vnd.jupyter.widget-view+json": {
       "model_id": "baf9b8549b284f18af9b29ba254b56ae",
       "version_major": 2,
       "version_minor": 0
      },
      "text/plain": [
       "HBox(children=(FloatProgress(value=0.0, max=2.0), HTML(value='')))"
      ]
     },
     "metadata": {},
     "output_type": "display_data"
    },
    {
     "name": "stdout",
     "output_type": "stream",
     "text": [
      "\n"
     ]
    },
    {
     "data": {
      "text/html": [
       "<table>\n",
       "<thead>\n",
       "<tr><th>name     </th><th>Last updated    </th><th>Outdated dependencies  </th><th>Outdated code  </th><th>Product                                                                                          </th><th>Doc (short)   </th><th>Location                                                                       </th></tr>\n",
       "</thead>\n",
       "<tbody>\n",
       "<tr><td>data     </td><td>Has not been run</td><td>False                  </td><td>True           </td><td>/private/var/folders/3h/_lvh_w_x5g30rrjzb_xnn2j80000gq/T/tmpkcp4ku79/data/Edu/dev/data.csv       </td><td>Get data      </td><td>/private/var/folders/3h/_lvh_w_x5g30rrjzb_xnn2j80000gq/T/tmpkcp4ku79/main.py:35</td></tr>\n",
       "<tr><td>transform</td><td>Has not been run</td><td>True                   </td><td>True           </td><td>/private/var/folders/3h/_lvh_w_x5g30rrjzb_xnn2j80000gq/T/tmpkcp4ku79/data/Edu/dev/transformed.csv</td><td>Transform data</td><td>/private/var/folders/3h/_lvh_w_x5g30rrjzb_xnn2j80000gq/T/tmpkcp4ku79/main.py:43</td></tr>\n",
       "</tbody>\n",
       "</table>"
      ],
      "text/plain": [
       "name       Last updated      Outdated dependencies    Outdated code    Product                                                                                            Doc (short)     Location\n",
       "---------  ----------------  -----------------------  ---------------  -------------------------------------------------------------------------------------------------  --------------  -------------------------------------------------------------------------------\n",
       "data       Has not been run  False                    True             /private/var/folders/3h/_lvh_w_x5g30rrjzb_xnn2j80000gq/T/tmpkcp4ku79/data/Edu/dev/data.csv         Get data        /private/var/folders/3h/_lvh_w_x5g30rrjzb_xnn2j80000gq/T/tmpkcp4ku79/main.py:35\n",
       "transform  Has not been run  True                     True             /private/var/folders/3h/_lvh_w_x5g30rrjzb_xnn2j80000gq/T/tmpkcp4ku79/data/Edu/dev/transformed.csv  Transform data  /private/var/folders/3h/_lvh_w_x5g30rrjzb_xnn2j80000gq/T/tmpkcp4ku79/main.py:43"
      ]
     },
     "execution_count": 20,
     "metadata": {},
     "output_type": "execute_result"
    }
   ],
   "source": [
    "dag = main.make()\n",
    "dag.status()"
   ]
  },
  {
   "cell_type": "code",
   "execution_count": 21,
   "metadata": {},
   "outputs": [
    {
     "data": {
      "application/vnd.jupyter.widget-view+json": {
       "model_id": "744f182063f64c219aba1117c6cf15b7",
       "version_major": 2,
       "version_minor": 0
      },
      "text/plain": [
       "HBox(children=(FloatProgress(value=0.0, max=2.0), HTML(value='')))"
      ]
     },
     "metadata": {},
     "output_type": "display_data"
    },
    {
     "name": "stdout",
     "output_type": "stream",
     "text": [
      "\n"
     ]
    },
    {
     "data": {
      "image/png": "[encoded data removed]",
      "text/plain": [
       "<Figure size 669.6x198.72 with 1 Axes>"
      ]
     },
     "metadata": {
      "needs_background": "light"
     },
     "output_type": "display_data"
    }
   ],
   "source": [
    "_ = dag.plot(output='matplotlib')"
   ]
  },
  {
   "cell_type": "code",
   "execution_count": 22,
   "metadata": {
    "scrolled": false
   },
   "outputs": [
    {
     "data": {
      "application/vnd.jupyter.widget-view+json": {
       "model_id": "7766f7d15eac4d68b3e50cfafc808d70",
       "version_major": 2,
       "version_minor": 0
      },
      "text/plain": [
       "HBox(children=(FloatProgress(value=0.0, max=2.0), HTML(value='')))"
      ]
     },
     "metadata": {},
     "output_type": "display_data"
    },
    {
     "name": "stdout",
     "output_type": "stream",
     "text": [
      "\n"
     ]
    },
    {
     "data": {
      "application/vnd.jupyter.widget-view+json": {
       "model_id": "7eb6eb14e93047f09d8ee7f59f435343",
       "version_major": 2,
       "version_minor": 0
      },
      "text/plain": [
       "HBox(children=(FloatProgress(value=0.0, max=2.0), HTML(value='')))"
      ]
     },
     "metadata": {},
     "output_type": "display_data"
    },
    {
     "name": "stdout",
     "output_type": "stream",
     "text": [
      "\n"
     ]
    },
    {
     "data": {
      "text/html": [
       "<table>\n",
       "<thead>\n",
       "<tr><th>name     </th><th>Ran?  </th><th style=\"text-align: right;\">  Elapsed (s)</th><th style=\"text-align: right;\">  Percentage</th></tr>\n",
       "</thead>\n",
       "<tbody>\n",
       "<tr><td>data     </td><td>True  </td><td style=\"text-align: right;\">     0.118587</td><td style=\"text-align: right;\">     50.1243</td></tr>\n",
       "<tr><td>transform</td><td>True  </td><td style=\"text-align: right;\">     0.117999</td><td style=\"text-align: right;\">     49.8757</td></tr>\n",
       "</tbody>\n",
       "</table>"
      ],
      "text/plain": [
       "name       Ran?      Elapsed (s)    Percentage\n",
       "---------  ------  -------------  ------------\n",
       "data       True         0.118587       50.1243\n",
       "transform  True         0.117999       49.8757"
      ]
     },
     "execution_count": 22,
     "metadata": {},
     "output_type": "execute_result"
    }
   ],
   "source": [
    "dag.build(force=True)"
   ]
  },
  {
   "cell_type": "code",
   "execution_count": 23,
   "metadata": {
    "nbsphinx": "hidden"
   },
   "outputs": [],
   "source": [
    "# cleanup setup\n",
    "shutil.rmtree(tmp_dir)"
   ]
  }
 ],
 "metadata": {
  "celltoolbar": "Edit Metadata",
  "kernelspec": {
   "display_name": "Python 3",
   "language": "python",
   "name": "python3"
  },
  "language_info": {
   "codemirror_mode": {
    "name": "ipython",
    "version": 3
   },
   "file_extension": ".py",
   "mimetype": "text/x-python",
   "name": "python",
   "nbconvert_exporter": "python",
   "pygments_lexer": "ipython3",
   "version": "3.6.10"
  }
 },
 "nbformat": 4,
 "nbformat_minor": 4
}
