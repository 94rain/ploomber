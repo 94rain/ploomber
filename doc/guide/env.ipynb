{
 "cells": [
  {
   "cell_type": "markdown",
   "metadata": {},
   "source": [
    "# Essential: Environments\n",
    "\n",
    "## Why?\n",
    "\n",
    "Environments allow DAGs to easily switch configuration parameters. These happens for three reasons primarily.\n",
    "\n",
    "### 1. Allow team members to use the same DAG definition but run in isolated environments\n",
    "\n",
    "If a DAG is developed by more than one person, you don't want others to accidentally write your files or tables. Ideally, each member should have a completely isolated environment (e.g. users write to their own `/data/{{user}}` folder in the shared server and `{{user}}` schema in the database), but if this is not possible for data scale reasons, there could be overlapping environments.\n",
    "\n",
    "### 2. Let multiple runs from the same pipeline co-exist\n",
    "\n",
    "It is a good practice to always have a working version of your code, this is usually done by using a VCS such as git by keeping working code in the `master` branch. Say you finished building your DAG from the `master` banch and now you want to work on a new feature in a `dev` branch, if you switch branches and start making code changes, calling `dag.build()` will overwrite your results, to prevent this from happening you could have one copy for each branch, this way you can work on `dev` and always have a working up-to-date pipeline run for the code stored in `master`.\n",
    "\n",
    "### 3. Switch between production and development environments\n",
    "\n",
    "\n",
    "An environment can be started either by passing a dictionary or a path to a YAML file, `Env` also implements a rendering logic where placeholders are resolved, this allows a single DAG definition to switch configuration automatically. Let's implement use case (1) to allow team members have their own environments."
   ]
  },
  {
   "cell_type": "code",
   "execution_count": 1,
   "metadata": {},
   "outputs": [],
   "source": [
    "import os\n",
    "import shutil\n",
    "from pathlib import Path\n",
    "import tempfile\n",
    "\n",
    "import pandas as pd\n",
    "from IPython.display import display, Markdown\n",
    "\n",
    "from ploomber import DAG\n",
    "from ploomber import Env, with_env\n",
    "from ploomber.tasks import PythonCallable\n",
    "from ploomber.products import File"
   ]
  },
  {
   "cell_type": "code",
   "execution_count": 2,
   "metadata": {},
   "outputs": [
    {
     "name": "stdout",
     "output_type": "stream",
     "text": [
      "{'path': {'data': PosixPath('/data/Edu')}, 'db': {'uri': 'DB_URI', 'schema': 'edu'}}\n"
     ]
    }
   ],
   "source": [
    "env = Env.start({'path': {'data': '/data/{{user}}'}, 'db': {'uri': 'DB_URI', 'schema': '{{user.lower()}}'}})\n",
    "print(env)\n",
    "Env.end()"
   ]
  },
  {
   "cell_type": "markdown",
   "metadata": {},
   "source": [
    "Note that we can use any of the objects methods (such as `str.lower()`) inside the placeholders and any other jinja2 features.\n",
    "\n",
    "## Integrating Env and DAG\n",
    "\n",
    "In the previous example, we started and ended and Env manually, to automatically manage the Env lifecycle, the \"factory\" pattern is introduced.\n",
    "\n",
    "### Factory pattern\n",
    "\n",
    "The factory pattern (do not confuse with the pattern in [OOP](https://en.wikipedia.org/wiki/Factory_method_pattern) is simply to have functions return DAG instances:"
   ]
  },
  {
   "cell_type": "code",
   "execution_count": 5,
   "metadata": {},
   "outputs": [],
   "source": [
    "def make():\n",
    "    \"\"\"Simplest factory possible\n",
    "    \"\"\"\n",
    "    return DAG()"
   ]
  },
  {
   "cell_type": "markdown",
   "metadata": {},
   "source": [
    "Using the factory pattern makes easy to restrict an Env's score to the body of the function using the `@with_env` decorator."
   ]
  },
  {
   "cell_type": "code",
   "execution_count": 6,
   "metadata": {},
   "outputs": [
    {
     "name": "stdout",
     "output_type": "stream",
     "text": [
      "Env is: {'path': {'data': PosixPath('/data/Edu')}}\n"
     ]
    }
   ],
   "source": [
    "@with_env({'path': {'data': '/data/{{user}}'}})\n",
    "def make(env):\n",
    "    \"\"\"Simplest factory possible\n",
    "    \"\"\"\n",
    "    print('Env is:', env)\n",
    "    return DAG()\n",
    "\n",
    "dag = make()"
   ]
  },
  {
   "cell_type": "markdown",
   "metadata": {},
   "source": [
    "By coding DAGs this way we can have a single DAG definition whose configuration is automatically resolved at declaration time (inside the function), hence, if someone else calls this function, their environment will be resolved to their corresponding data folder.\n",
    "\n",
    "Note that we called `make()` without arguments, that's because the decorator injects the env argument automatically."
   ]
  },
  {
   "cell_type": "markdown",
   "metadata": {},
   "source": [
    "## Using the `{{git}}` placeholder for environment isolation\n",
    "\n",
    "\n",
    "`{{git}}` allows you to switch configuration depending on the your project's git status. But before resolving its value, `Env` has to resolve your project's module path (call it `MODULE_PATH`). In order to do that, you need to provide the `_module` key. Assuming your env is `{'_module: MODULE_VALUE'}` processing goes as follows:\n",
    "\n",
    "First, try to locate a module named `MODULE_VALUE` (similar to what `import MODULE_VALUE` would do but without actually importing the module), if found, the module's location is your `MODULE_PATH`, if no module is found with such name, interpret `MODULE_VALUE` directly as `MODULE_PATH`.\n",
    "\n",
    "Once `MODULE_PATH` is determined, `{{git}}` will assume there is a git repository in `MODULE_PATH` and return the branch name if you are at the latest commit, otherwise it will return the git hash. This will allow you to keep isolated pipeline runs, one per branch. Furthermore, if you move to a specific commit and run your pipeline this will prevent overwriting your current working code. Let's see how this looks like:"
   ]
  },
  {
   "cell_type": "code",
   "execution_count": 7,
   "metadata": {
    "nbsphinx": "hidden"
   },
   "outputs": [],
   "source": [
    "# hide setup\n",
    "tmp_dir = tempfile.mkdtemp()\n",
    "tmp_dir_path = Path(tmp_dir)\n",
    "# print(\"Temporary project's root folder: \", tmp_dir)\n",
    "os.chdir(tmp_dir)"
   ]
  },
  {
   "cell_type": "code",
   "execution_count": 8,
   "metadata": {},
   "outputs": [
    {
     "name": "stdout",
     "output_type": "stream",
     "text": [
      "Initialized empty Git repository in /private/var/folders/3h/_lvh_w_x5g30rrjzb_xnn2j80000gq/T/tmppotdbxsb/.git/\n",
      "[master (root-commit) ff04a86] first commit\n",
      " 1 file changed, 0 insertions(+), 0 deletions(-)\n",
      " create mode 100644 a_file.py\n",
      "[master b5bcfd3] second commit\n",
      " 1 file changed, 0 insertions(+), 0 deletions(-)\n",
      " create mode 100644 another_file.py\n"
     ]
    }
   ],
   "source": [
    "# create a sample repository\n",
    "! git init\n",
    "# add first commit\n",
    "! touch a_file.py\n",
    "! git add --all\n",
    "! git commit -m 'first commit'\n",
    "! touch another_file.py\n",
    "! git add --all\n",
    "! git commit -m 'second commit'"
   ]
  },
  {
   "cell_type": "code",
   "execution_count": 9,
   "metadata": {},
   "outputs": [
    {
     "name": "stdout",
     "output_type": "stream",
     "text": [
      "env.path.data: /data/master\n"
     ]
    }
   ],
   "source": [
    "# we are at the tip of the master branch\n",
    "Env.start({'_module': tmp_dir, 'path': {'data': '/data/{{git}}'}})\n",
    "print('env.path.data:', env.path.data)\n",
    "Env.end()"
   ]
  },
  {
   "cell_type": "code",
   "execution_count": 10,
   "metadata": {},
   "outputs": [
    {
     "name": "stdout",
     "output_type": "stream",
     "text": [
      "Switched to a new branch 'dev'\r\n"
     ]
    }
   ],
   "source": [
    "! git checkout -b dev"
   ]
  },
  {
   "cell_type": "code",
   "execution_count": 11,
   "metadata": {},
   "outputs": [
    {
     "name": "stdout",
     "output_type": "stream",
     "text": [
      "env.path.data: /data/dev\n"
     ]
    }
   ],
   "source": [
    "# we are at the tip of the dev branch\n",
    "Env.start({'_module': tmp_dir, 'path': {'data': '/data/{{git}}'}})\n",
    "print('env.path.data:', env.path.data)\n",
    "Env.end()"
   ]
  },
  {
   "cell_type": "code",
   "execution_count": 12,
   "metadata": {},
   "outputs": [
    {
     "name": "stdout",
     "output_type": "stream",
     "text": [
      "Note: switching to 'HEAD~1'.\r\n",
      "\r\n",
      "You are in 'detached HEAD' state. You can look around, make experimental\r\n",
      "changes and commit them, and you can discard any commits you make in this\r\n",
      "state without impacting any branches by switching back to a branch.\r\n",
      "\r\n",
      "If you want to create a new branch to retain commits you create, you may\r\n",
      "do so (now or later) by using -c with the switch command. Example:\r\n",
      "\r\n",
      "  git switch -c <new-branch-name>\r\n",
      "\r\n",
      "Or undo this operation with:\r\n",
      "\r\n",
      "  git switch -\r\n",
      "\r\n",
      "Turn off this advice by setting config variable advice.detachedHead to false\r\n",
      "\r\n",
      "HEAD is now at ff04a86 first commit\r\n"
     ]
    }
   ],
   "source": [
    "! git checkout HEAD~1"
   ]
  },
  {
   "cell_type": "code",
   "execution_count": 13,
   "metadata": {},
   "outputs": [
    {
     "name": "stdout",
     "output_type": "stream",
     "text": [
      "env.path.data: /data/ff04a86\n"
     ]
    }
   ],
   "source": [
    "# we moved to a specific commit\n",
    "Env.start({'_module': tmp_dir, 'path': {'data': '/data/{{git}}'}})\n",
    "print('env.path.data:', env.path.data)\n",
    "Env.end()"
   ]
  },
  {
   "cell_type": "code",
   "execution_count": 14,
   "metadata": {},
   "outputs": [
    {
     "name": "stdout",
     "output_type": "stream",
     "text": [
      "Previous HEAD position was ff04a86 first commit\r\n",
      "Switched to branch 'dev'\r\n"
     ]
    }
   ],
   "source": [
    "# hide this\n",
    "! git checkout dev"
   ]
  },
  {
   "cell_type": "markdown",
   "metadata": {},
   "source": [
    "## Loading environments from YAML files\n",
    "\n",
    "In the previous examples, we've been coding our configuration directly as a dictionary, however, for a real project we want to keep configuration and code separate. Env also accepts paths to YAML as arguments, say our `env.yaml` looks like this:"
   ]
  },
  {
   "cell_type": "code",
   "execution_count": 19,
   "metadata": {
    "nbsphinx": "hidden"
   },
   "outputs": [],
   "source": [
    "env_yaml = \"\"\"\n",
    "# Content of env.yaml\n",
    "\n",
    "path:\n",
    "    data: '/data/{{user}}'\n",
    "\n",
    "db:\n",
    "    uri: 'DB_URI'\n",
    "    schema: '{{user.lower()}}'\n",
    "\"\"\"\n",
    "\n",
    "(tmp_dir_path / 'env.yaml').write_text(env_yaml)\n",
    "\n",
    "def display_file(file, syntax):\n",
    "    s = \"\"\"\n",
    "```{}\n",
    "{}\n",
    "```\n",
    "\"\"\".format(syntax, file)\n",
    "    return display(Markdown(s))"
   ]
  },
  {
   "cell_type": "code",
   "execution_count": 20,
   "metadata": {},
   "outputs": [
    {
     "data": {
      "text/markdown": [
       "\n",
       "```yaml\n",
       "\n",
       "# Content of env.yaml\n",
       "\n",
       "path:\n",
       "    data: '/data/{{user}}'\n",
       "\n",
       "db:\n",
       "    uri: 'DB_URI'\n",
       "    schema: '{{user.lower()}}'\n",
       "\n",
       "```\n"
      ],
      "text/plain": [
       "<IPython.core.display.Markdown object>"
      ]
     },
     "metadata": {},
     "output_type": "display_data"
    }
   ],
   "source": [
    "display_file(env_yaml, 'yaml')"
   ]
  },
  {
   "cell_type": "code",
   "execution_count": 21,
   "metadata": {},
   "outputs": [
    {
     "name": "stdout",
     "output_type": "stream",
     "text": [
      "Env:  {'path': {'data': PosixPath('/data/Edu')}, 'db': {'uri': 'DB_URI', 'schema': 'edu'}}\n"
     ]
    }
   ],
   "source": [
    "env = Env.start()\n",
    "print('Env: ', env)\n",
    "Env.end()"
   ]
  },
  {
   "cell_type": "markdown",
   "metadata": {},
   "source": [
    "Without arguments, `Env.start` (or `@with_env`), will look for a file named `env.{HOSTNAME}.yaml` in the current working directory and parent folders. Where `{HOSTNAME}` is the current hostname (as returned from `platform.node()`, if such file does not exist, it will try to find an `env.yaml` file.\n",
    "\n",
    "If you know the name of the environment, you can pass it directly (e.g. `Env.start('env.dev.yaml')`)"
   ]
  },
  {
   "cell_type": "markdown",
   "metadata": {},
   "source": [
    "## What goes in? What leave out?"
   ]
  },
  {
   "cell_type": "markdown",
   "metadata": {},
   "source": [
    "Envs are intended to store configuration that changes among environments, an environment can be defined as a combination of the current computation environment (e.g. your laptop vs. the dev server vs. the production server) and the person making changes (e.g. you or a coworker). The specifics depend on your project but as a general recommendation you shoul only store URIs to resources such as DBs and locations to the pipeline's output such as DB schemas or folders. **Do not store any sensitive information** such as passwords."
   ]
  },
  {
   "cell_type": "markdown",
   "metadata": {},
   "source": [
    "## Putting everything together\n",
    "\n",
    "Let's now take a look at a complete example, a pipeline with a `main.py` and a `env.yaml` file:"
   ]
  },
  {
   "cell_type": "code",
   "execution_count": 28,
   "metadata": {
    "nbsphinx": "hidden"
   },
   "outputs": [],
   "source": [
    "# hide this\n",
    "code = \"\"\"\n",
    "# Content of main.py\n",
    "\n",
    "from ploomber import DAG, with_env\n",
    "from ploomber.tasks import PythonCallable\n",
    "from ploomber.products import File\n",
    "\n",
    "import pandas as pd\n",
    "from sklearn.datasets import load_wine\n",
    "\n",
    "\n",
    "@with_env\n",
    "def make(env):\n",
    "    \\\"\\\"\\\"DAG factory\n",
    "    \\\"\\\"\\\"\n",
    "    env.path.data.mkdir(parents=True, exist_ok=True)\n",
    "\n",
    "    dag = DAG(name='my pipeline')\n",
    "\n",
    "    get = PythonCallable(_get,\n",
    "                         product=File(env.path.data / 'data.csv'),\n",
    "                         dag=dag,\n",
    "                         name='data')\n",
    "    \n",
    "    transform = PythonCallable(_transform,\n",
    "                               product=File(env.path.data / 'transformed.csv'),\n",
    "                               dag=dag,\n",
    "                               name='transform')\n",
    "    \n",
    "    get >> transform\n",
    "    \n",
    "    return dag\n",
    "\n",
    "\n",
    "def _get(product):\n",
    "    \\\"\\\"\\\"Get data\n",
    "    \\\"\\\"\\\"\n",
    "    wine = load_wine()\n",
    "    df = pd.DataFrame(wine.data)\n",
    "    df['target'] = wine.target\n",
    "    df.to_csv(str(product))\n",
    "\n",
    "def _transform(upstream, product):\n",
    "    \\\"\\\"\\\"Transform data\n",
    "    \\\"\\\"\\\"\n",
    "    df = pd.read_csv(str(upstream['data']))\n",
    "    df['new_column'] = 42\n",
    "    df.to_csv(str(product))\n",
    "\"\"\"\n",
    "\n",
    "env = \"\"\"\n",
    "# Content of env.yaml\n",
    "\n",
    "# You can use the {{here}} placeholder which will resolve to the current folder\n",
    "_module: '{{here}}'\n",
    "\n",
    "path:\n",
    "    data: '{{here}}/data/{{user}}/{{git}}/'\n",
    "\"\"\"\n",
    "\n",
    "Path('main.py').write_text(code)\n",
    "_ = Path('env.yaml').write_text(env)"
   ]
  },
  {
   "cell_type": "markdown",
   "metadata": {},
   "source": [
    "### Content of `main.py`"
   ]
  },
  {
   "cell_type": "code",
   "execution_count": 29,
   "metadata": {},
   "outputs": [
    {
     "data": {
      "text/markdown": [
       "\n",
       "```python\n",
       "\n",
       "# Content of main.py\n",
       "\n",
       "from ploomber import DAG, with_env\n",
       "from ploomber.tasks import PythonCallable\n",
       "from ploomber.products import File\n",
       "\n",
       "import pandas as pd\n",
       "from sklearn.datasets import load_wine\n",
       "\n",
       "\n",
       "@with_env\n",
       "def make(env):\n",
       "    \"\"\"DAG factory\n",
       "    \"\"\"\n",
       "    env.path.data.mkdir(parents=True, exist_ok=True)\n",
       "\n",
       "    dag = DAG(name='my pipeline')\n",
       "\n",
       "    get = PythonCallable(_get,\n",
       "                         product=File(env.path.data / 'data.csv'),\n",
       "                         dag=dag,\n",
       "                         name='data')\n",
       "    \n",
       "    transform = PythonCallable(_transform,\n",
       "                               product=File(env.path.data / 'transformed.csv'),\n",
       "                               dag=dag,\n",
       "                               name='transform')\n",
       "    \n",
       "    get >> transform\n",
       "    \n",
       "    return dag\n",
       "\n",
       "\n",
       "def _get(product):\n",
       "    \"\"\"Get data\n",
       "    \"\"\"\n",
       "    wine = load_wine()\n",
       "    df = pd.DataFrame(wine.data)\n",
       "    df['target'] = wine.target\n",
       "    df.to_csv(str(product))\n",
       "\n",
       "def _transform(upstream, product):\n",
       "    \"\"\"Transform data\n",
       "    \"\"\"\n",
       "    df = pd.read_csv(str(upstream['data']))\n",
       "    df['new_column'] = 42\n",
       "    df.to_csv(str(product))\n",
       "\n",
       "```\n"
      ],
      "text/plain": [
       "<IPython.core.display.Markdown object>"
      ]
     },
     "metadata": {},
     "output_type": "display_data"
    }
   ],
   "source": [
    "display_file(code, 'python')"
   ]
  },
  {
   "cell_type": "markdown",
   "metadata": {},
   "source": [
    "### Content of `env.yaml`"
   ]
  },
  {
   "cell_type": "code",
   "execution_count": 30,
   "metadata": {},
   "outputs": [
    {
     "data": {
      "text/markdown": [
       "\n",
       "```yaml\n",
       "\n",
       "# Content of env.yaml\n",
       "\n",
       "# You can use the {{here}} placeholder which will resolve to the current folder\n",
       "_module: '{{here}}'\n",
       "\n",
       "path:\n",
       "    data: '{{here}}/data/{{user}}/{{git}}/'\n",
       "\n",
       "```\n"
      ],
      "text/plain": [
       "<IPython.core.display.Markdown object>"
      ]
     },
     "metadata": {},
     "output_type": "display_data"
    }
   ],
   "source": [
    "display_file(env, 'yaml')"
   ]
  },
  {
   "cell_type": "code",
   "execution_count": 31,
   "metadata": {},
   "outputs": [],
   "source": [
    "import main"
   ]
  },
  {
   "cell_type": "code",
   "execution_count": 32,
   "metadata": {},
   "outputs": [
    {
     "data": {
      "application/vnd.jupyter.widget-view+json": {
       "model_id": "c7dc3a6e81c54a92b2fef6307c1549d0",
       "version_major": 2,
       "version_minor": 0
      },
      "text/plain": [
       "HBox(children=(FloatProgress(value=0.0, max=2.0), HTML(value='')))"
      ]
     },
     "metadata": {},
     "output_type": "display_data"
    },
    {
     "name": "stdout",
     "output_type": "stream",
     "text": [
      "\n"
     ]
    },
    {
     "data": {
      "text/html": [
       "<table>\n",
       "<thead>\n",
       "<tr><th>name     </th><th>Last updated    </th><th>Outdated dependencies  </th><th>Outdated code  </th><th>Product                                                                                          </th><th>Doc (short)   </th><th>Location                                                                       </th></tr>\n",
       "</thead>\n",
       "<tbody>\n",
       "<tr><td>data     </td><td>Has not been run</td><td>False                  </td><td>True           </td><td>/private/var/folders/3h/_lvh_w_x5g30rrjzb_xnn2j80000gq/T/tmppotdbxsb/data/Edu/dev/data.csv       </td><td>Get data      </td><td>/private/var/folders/3h/_lvh_w_x5g30rrjzb_xnn2j80000gq/T/tmppotdbxsb/main.py:35</td></tr>\n",
       "<tr><td>transform</td><td>Has not been run</td><td>True                   </td><td>True           </td><td>/private/var/folders/3h/_lvh_w_x5g30rrjzb_xnn2j80000gq/T/tmppotdbxsb/data/Edu/dev/transformed.csv</td><td>Transform data</td><td>/private/var/folders/3h/_lvh_w_x5g30rrjzb_xnn2j80000gq/T/tmppotdbxsb/main.py:43</td></tr>\n",
       "</tbody>\n",
       "</table>"
      ],
      "text/plain": [
       "name       Last updated      Outdated dependencies    Outdated code    Product                                                                                            Doc (short)     Location\n",
       "---------  ----------------  -----------------------  ---------------  -------------------------------------------------------------------------------------------------  --------------  -------------------------------------------------------------------------------\n",
       "data       Has not been run  False                    True             /private/var/folders/3h/_lvh_w_x5g30rrjzb_xnn2j80000gq/T/tmppotdbxsb/data/Edu/dev/data.csv         Get data        /private/var/folders/3h/_lvh_w_x5g30rrjzb_xnn2j80000gq/T/tmppotdbxsb/main.py:35\n",
       "transform  Has not been run  True                     True             /private/var/folders/3h/_lvh_w_x5g30rrjzb_xnn2j80000gq/T/tmppotdbxsb/data/Edu/dev/transformed.csv  Transform data  /private/var/folders/3h/_lvh_w_x5g30rrjzb_xnn2j80000gq/T/tmppotdbxsb/main.py:43"
      ]
     },
     "execution_count": 32,
     "metadata": {},
     "output_type": "execute_result"
    }
   ],
   "source": [
    "dag = main.make()\n",
    "dag.status()"
   ]
  },
  {
   "cell_type": "code",
   "execution_count": 33,
   "metadata": {},
   "outputs": [
    {
     "data": {
      "application/vnd.jupyter.widget-view+json": {
       "model_id": "6d43e9ea4aac47c398b50d302b4ca6c5",
       "version_major": 2,
       "version_minor": 0
      },
      "text/plain": [
       "HBox(children=(FloatProgress(value=0.0, max=2.0), HTML(value='')))"
      ]
     },
     "metadata": {},
     "output_type": "display_data"
    },
    {
     "name": "stdout",
     "output_type": "stream",
     "text": [
      "\n"
     ]
    },
    {
     "data": {
      "image/png": "[encoded data removed]",
      "text/plain": [
       "<Figure size 669.6x198.72 with 1 Axes>"
      ]
     },
     "metadata": {
      "needs_background": "light"
     },
     "output_type": "display_data"
    }
   ],
   "source": [
    "_ = dag.plot(output='matplotlib')"
   ]
  },
  {
   "cell_type": "code",
   "execution_count": 34,
   "metadata": {
    "scrolled": false
   },
   "outputs": [
    {
     "data": {
      "application/vnd.jupyter.widget-view+json": {
       "model_id": "1efcf736fad64fec816416bf308c3132",
       "version_major": 2,
       "version_minor": 0
      },
      "text/plain": [
       "HBox(children=(FloatProgress(value=0.0, max=2.0), HTML(value='')))"
      ]
     },
     "metadata": {},
     "output_type": "display_data"
    },
    {
     "name": "stdout",
     "output_type": "stream",
     "text": [
      "\n"
     ]
    },
    {
     "data": {
      "application/vnd.jupyter.widget-view+json": {
       "model_id": "a6232f55bdf343bdb45bef2d6aeb203e",
       "version_major": 2,
       "version_minor": 0
      },
      "text/plain": [
       "HBox(children=(FloatProgress(value=0.0, max=2.0), HTML(value='')))"
      ]
     },
     "metadata": {},
     "output_type": "display_data"
    },
    {
     "name": "stdout",
     "output_type": "stream",
     "text": [
      "\n"
     ]
    },
    {
     "data": {
      "text/html": [
       "<table>\n",
       "<thead>\n",
       "<tr><th>name     </th><th>Ran?  </th><th style=\"text-align: right;\">  Elapsed (s)</th><th style=\"text-align: right;\">  Percentage</th></tr>\n",
       "</thead>\n",
       "<tbody>\n",
       "<tr><td>data     </td><td>True  </td><td style=\"text-align: right;\">     0.116032</td><td style=\"text-align: right;\">     48.9915</td></tr>\n",
       "<tr><td>transform</td><td>True  </td><td style=\"text-align: right;\">     0.120809</td><td style=\"text-align: right;\">     51.0085</td></tr>\n",
       "</tbody>\n",
       "</table>"
      ],
      "text/plain": [
       "name       Ran?      Elapsed (s)    Percentage\n",
       "---------  ------  -------------  ------------\n",
       "data       True         0.116032       48.9915\n",
       "transform  True         0.120809       51.0085"
      ]
     },
     "execution_count": 34,
     "metadata": {},
     "output_type": "execute_result"
    }
   ],
   "source": [
    "dag.build()"
   ]
  },
  {
   "cell_type": "code",
   "execution_count": 35,
   "metadata": {
    "nbsphinx": "hidden"
   },
   "outputs": [],
   "source": [
    "# cleanup setup\n",
    "shutil.rmtree(tmp_dir)"
   ]
  }
 ],
 "metadata": {
  "celltoolbar": "Edit Metadata",
  "kernelspec": {
   "display_name": "Python 3",
   "language": "python",
   "name": "python3"
  },
  "language_info": {
   "codemirror_mode": {
    "name": "ipython",
    "version": 3
   },
   "file_extension": ".py",
   "mimetype": "text/x-python",
   "name": "python",
   "nbconvert_exporter": "python",
   "pygments_lexer": "ipython3",
   "version": "3.6.10"
  }
 },
 "nbformat": 4,
 "nbformat_minor": 4
}
