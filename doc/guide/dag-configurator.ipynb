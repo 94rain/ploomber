{
 "cells": [
  {
   "cell_type": "markdown",
   "metadata": {},
   "source": [
    "# Advanced: `DAGConfigurator`\n",
    "\n",
    "Out of the box, `DAG` has just a few customizable parameters. `DAGConfigurator` provides more way to customize DAGs, the rationale for creating a new object instead of just adding more parameters to the DAG constructor is to keep the API simple for new users who might not even need to use `DAGConfigurator` at all.\n",
    "\n",
    "The following parameters are available:\n",
    "\n",
    "1. `outdated_by_code` (`bool`): By default, source code changes mark tasks as outdated, triggering execution during `dag.build()`, by setting this parameter to False, changes in code will not trigger task execution. This is useful to prevents in production override previous results if a new version (with new source) is deployed\n",
    "2. `cache_rendered_status` (`bool`): By default, every time you run `dag.render()` or `dag.build()`, every Task fetches their corresponding Product status. Sometimes this is an expensive operation, for example, if Products are SQL tables, checking Product status has to query the database, by setting this to False, the status is cached.\n",
    "3. `differ` (`CodeDiffer` object): To determine if two pieces of code are different, DAGs use a `CodeDiffer` that compare the old and the new version, by passing a custom object here, you can override the default behavior, see `CodeDiffer` documentation for details.\n",
    "4. `logging_handler_factory` (`function`): This parameter provides an easy way to log `dag.build()` output. Whenever a DAG is built, this function is executed to add a logging handler to the root logger, after executing the DAG, the handler is removed. For more information about handlers and loggers, refer to the [logging module documentation](https://docs.python.org/3/howto/logging.html#logging-basic-tutorial). This function can request the DAG's name using the `dag_name` parameter.\n",
    "\n",
    "## Logging all dag builds to a file\n",
    "\n",
    "We now explain how to use `DAGConfigurator` with an example that logs DAG builds to a file:"
   ]
  },
  {
   "cell_type": "code",
   "execution_count": 10,
   "metadata": {},
   "outputs": [],
   "source": [
    "from pathlib import Path\n",
    "import logging\n",
    "\n",
    "from ploomber import DAGConfigurator\n",
    "from ploomber.tasks import PythonCallable\n",
    "from ploomber.products import File\n",
    "\n",
    "def logging_handler_factory(dag_name):\n",
    "    handler = logging.FileHandler('%s.log' % dag_name)\n",
    "    handler.setLevel(logging.INFO)\n",
    "    fmt = logging.Formatter('%(levelname)s %(asctime)s: %(message)s')\n",
    "    handler.setFormatter(fmt)\n",
    "    return handler\n",
    "\n",
    "# initialize and set logging_handler_factory\n",
    "configurator = DAGConfigurator()\n",
    "configurator.cfg.logging_handler_factory = logging_handler_factory"
   ]
  },
  {
   "cell_type": "code",
   "execution_count": 11,
   "metadata": {},
   "outputs": [],
   "source": [
    "# initialize an empty dag with the parameter in configurator\n",
    "dag = configurator.create(name='my_dag')"
   ]
  },
  {
   "cell_type": "code",
   "execution_count": 12,
   "metadata": {},
   "outputs": [
    {
     "data": {
      "text/plain": [
       "PythonCallable: touch -> File(some_file.txt)"
      ]
     },
     "execution_count": 12,
     "metadata": {},
     "output_type": "execute_result"
    }
   ],
   "source": [
    "# add sample task\n",
    "def touch(product):\n",
    "    logging.info('Logging from touch task...')\n",
    "    Path(str(product)).touch()\n",
    "\n",
    "PythonCallable(touch, File('some_file.txt'), dag=dag)"
   ]
  },
  {
   "cell_type": "code",
   "execution_count": 13,
   "metadata": {},
   "outputs": [
    {
     "data": {
      "application/vnd.jupyter.widget-view+json": {
       "model_id": "71c8c1eb3363470088590ac4f93855c4",
       "version_major": 2,
       "version_minor": 0
      },
      "text/plain": [
       "HBox(children=(FloatProgress(value=0.0, max=1.0), HTML(value='')))"
      ]
     },
     "metadata": {},
     "output_type": "display_data"
    },
    {
     "name": "stdout",
     "output_type": "stream",
     "text": [
      "\n"
     ]
    },
    {
     "data": {
      "application/vnd.jupyter.widget-view+json": {
       "model_id": "ccd043d9eb68476ea717ce9d60ed096c",
       "version_major": 2,
       "version_minor": 0
      },
      "text/plain": [
       "HBox(children=(FloatProgress(value=0.0, max=1.0), HTML(value='')))"
      ]
     },
     "metadata": {},
     "output_type": "display_data"
    },
    {
     "name": "stdout",
     "output_type": "stream",
     "text": [
      "\n"
     ]
    },
    {
     "data": {
      "text/html": [
       "<table>\n",
       "<thead>\n",
       "<tr><th>name  </th><th>Ran?  </th><th style=\"text-align: right;\">  Elapsed (s)</th><th style=\"text-align: right;\">  Percentage</th></tr>\n",
       "</thead>\n",
       "<tbody>\n",
       "<tr><td>touch </td><td>False </td><td style=\"text-align: right;\">            0</td><td style=\"text-align: right;\">           0</td></tr>\n",
       "</tbody>\n",
       "</table>"
      ],
      "text/plain": [
       "name    Ran?      Elapsed (s)    Percentage\n",
       "------  ------  -------------  ------------\n",
       "touch   False               0             0"
      ]
     },
     "execution_count": 13,
     "metadata": {},
     "output_type": "execute_result"
    }
   ],
   "source": [
    "dag.build()"
   ]
  },
  {
   "cell_type": "markdown",
   "metadata": {},
   "source": [
    "Let's now verify that our output was logged:"
   ]
  },
  {
   "cell_type": "code",
   "execution_count": 14,
   "metadata": {},
   "outputs": [
    {
     "name": "stdout",
     "output_type": "stream",
     "text": [
      "INFO 2020-05-03 00:52:47,950: Rendering DAG DAG(\"my_dag\")\n",
      "INFO 2020-05-03 00:52:47,980: Checking status for task \"touch\"\n",
      "INFO 2020-05-03 00:52:47,981: Product does not exist...\n",
      "INFO 2020-05-03 00:52:47,981: Should run? True\n",
      "INFO 2020-05-03 00:52:47,986: Building DAG DAG(\"my_dag\")\n",
      "INFO 2020-05-03 00:52:48,032: Starting execution: PythonCallable: touch -> File(some_file.txt)\n",
      "INFO 2020-05-03 00:52:48,033: Logging from touch task...\n",
      "INFO 2020-05-03 00:52:48,034: Done. Operation took 0.0 seconds\n",
      "INFO 2020-05-03 00:52:48,144:  DAG report:\n",
      "name    Ran?      Elapsed (s)    Percentage\n",
      "------  ------  -------------  ------------\n",
      "touch   True         0.001136           100\n",
      "INFO 2020-05-03 00:57:17,536: Rendering DAG DAG(\"my_dag\")\n",
      "INFO 2020-05-03 00:57:17,561: Checking status for task \"touch\"\n",
      "INFO 2020-05-03 00:57:17,562: Up-to-date data deps...\n",
      "INFO 2020-05-03 00:57:17,686: Up-to-date code dep...\n",
      "INFO 2020-05-03 00:57:17,686: Should run? False\n",
      "INFO 2020-05-03 00:57:17,690: Building DAG DAG(\"my_dag\")\n",
      "INFO 2020-05-03 00:57:17,714:  DAG report:\n",
      "name    Ran?      Elapsed (s)    Percentage\n",
      "------  ------  -------------  ------------\n",
      "touch   False               0             0\n",
      "\n"
     ]
    }
   ],
   "source": [
    "print(Path('my_dag.log').read_text())"
   ]
  },
  {
   "cell_type": "markdown",
   "metadata": {},
   "source": [
    "## Initializing `DAGConfigurator` using a dictionary\n",
    "\n",
    "You can also initialize `DAGConfigurator` using a dictionary (e.g. if you want to load parameters from a JSON or a YAML file). The only limitation is that you cannot set some parameters that require objects to be passed (such as  `logging_handler_factory`):\n",
    "\n",
    "This:"
   ]
  },
  {
   "cell_type": "code",
   "execution_count": 15,
   "metadata": {},
   "outputs": [],
   "source": [
    "configurator = DAGConfigurator()\n",
    "configurator.cfg.cache_rendered_status = True"
   ]
  },
  {
   "cell_type": "markdown",
   "metadata": {},
   "source": [
    "Is equivalent to this:"
   ]
  },
  {
   "cell_type": "code",
   "execution_count": 16,
   "metadata": {},
   "outputs": [],
   "source": [
    "configurator = DAGConfigurator.from_dict({'cache_rendered_status': False})"
   ]
  }
 ],
 "metadata": {
  "kernelspec": {
   "display_name": "Python 3",
   "language": "python",
   "name": "python3"
  },
  "language_info": {
   "codemirror_mode": {
    "name": "ipython",
    "version": 3
   },
   "file_extension": ".py",
   "mimetype": "text/x-python",
   "name": "python",
   "nbconvert_exporter": "python",
   "pygments_lexer": "ipython3",
   "version": "3.6.10"
  }
 },
 "nbformat": 4,
 "nbformat_minor": 4
}
